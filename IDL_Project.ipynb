{
  "cells": [
    {
      "cell_type": "code",
      "execution_count": null,
      "metadata": {
        "id": "7ywF-0hNIJOv"
      },
      "outputs": [],
      "source": [
        "!pip install torchsummaryX --quiet"
      ]
    },
    {
      "cell_type": "code",
      "execution_count": null,
      "metadata": {
        "colab": {
          "base_uri": "https://localhost:8080/"
        },
        "id": "XEPzF8FCIbs4",
        "outputId": "1adf92fd-f36e-4193-dbed-009c14841c74"
      },
      "outputs": [
        {
          "name": "stdout",
          "output_type": "stream",
          "text": [
            "Fri Dec  9 18:09:05 2022       \n",
            "+-----------------------------------------------------------------------------+\n",
            "| NVIDIA-SMI 460.32.03    Driver Version: 460.32.03    CUDA Version: 11.2     |\n",
            "|-------------------------------+----------------------+----------------------+\n",
            "| GPU  Name        Persistence-M| Bus-Id        Disp.A | Volatile Uncorr. ECC |\n",
            "| Fan  Temp  Perf  Pwr:Usage/Cap|         Memory-Usage | GPU-Util  Compute M. |\n",
            "|                               |                      |               MIG M. |\n",
            "|===============================+======================+======================|\n",
            "|   0  Tesla T4            Off  | 00000000:00:04.0 Off |                    0 |\n",
            "| N/A   54C    P0    28W /  70W |   3710MiB / 15109MiB |      0%      Default |\n",
            "|                               |                      |                  N/A |\n",
            "+-------------------------------+----------------------+----------------------+\n",
            "                                                                               \n",
            "+-----------------------------------------------------------------------------+\n",
            "| Processes:                                                                  |\n",
            "|  GPU   GI   CI        PID   Type   Process name                  GPU Memory |\n",
            "|        ID   ID                                                   Usage      |\n",
            "|=============================================================================|\n",
            "+-----------------------------------------------------------------------------+\n"
          ]
        }
      ],
      "source": [
        "!nvidia-smi"
      ]
    },
    {
      "cell_type": "code",
      "execution_count": null,
      "metadata": {
        "id": "-8MXKeU_IOBk"
      },
      "outputs": [],
      "source": [
        "import torch\n",
        "import numpy as np\n",
        "import torch.nn as nn\n",
        "import torch.nn.functional as F\n",
        "#from torchsummaryX import summary\n",
        "from torchsummary import summary\n",
        "from torch.utils.data import Dataset, DataLoader\n",
        "from tqdm import tqdm\n",
        "import os\n",
        "import torchvision\n",
        "from matplotlib import image,pyplot"
      ]
    },
    {
      "cell_type": "code",
      "execution_count": null,
      "metadata": {
        "colab": {
          "base_uri": "https://localhost:8080/"
        },
        "id": "FUOHUYajLOWQ",
        "outputId": "1b80f5e2-e112-46f4-aeae-d9cc875f080c"
      },
      "outputs": [
        {
          "name": "stdout",
          "output_type": "stream",
          "text": [
            "Drive already mounted at /content/drive; to attempt to forcibly remount, call drive.mount(\"/content/drive\", force_remount=True).\n"
          ]
        }
      ],
      "source": [
        "from google.colab import drive\n",
        "drive.mount('/content/drive')"
      ]
    },
    {
      "cell_type": "markdown",
      "metadata": {
        "id": "m7S9bKaRLRF-"
      },
      "source": []
    },
    {
      "cell_type": "code",
      "execution_count": null,
      "metadata": {
        "id": "jUybyplHIeLf"
      },
      "outputs": [],
      "source": [
        "!unzip -qo '/content/drive/MyDrive/IDL Project/sonar_camera.zip'"
      ]
    },
    {
      "cell_type": "code",
      "execution_count": null,
      "metadata": {
        "colab": {
          "base_uri": "https://localhost:8080/"
        },
        "id": "twYZ15zoT72_",
        "outputId": "f3f2d0eb-c837-4f70-d5ad-f4ff8cd81c6a"
      },
      "outputs": [
        {
          "name": "stdout",
          "output_type": "stream",
          "text": [
            "rmdir: failed to remove 'sonar_camera_group/camera_data/.ipynb_checkpoints': No such file or directory\n"
          ]
        }
      ],
      "source": [
        "os.listdir(\"sonar_camera_group/camera_data\")\n",
        "!rmdir \"sonar_camera_group/camera_data/.ipynb_checkpoints\""
      ]
    },
    {
      "cell_type": "code",
      "execution_count": null,
      "metadata": {
        "colab": {
          "base_uri": "https://localhost:8080/"
        },
        "id": "gILzgEdVU3ZS",
        "outputId": "0309b378-a1f5-4968-964c-fea7845fa884"
      },
      "outputs": [
        {
          "name": "stdout",
          "output_type": "stream",
          "text": [
            "rmdir: failed to remove 'sonar_camera_group/sonar_data/.ipynb_checkpoints': No such file or directory\n"
          ]
        }
      ],
      "source": [
        "os.listdir(\"sonar_camera_group/sonar_data\")\n",
        "!rmdir \"sonar_camera_group/sonar_data/.ipynb_checkpoints\""
      ]
    },
    {
      "cell_type": "code",
      "execution_count": null,
      "metadata": {
        "id": "raXM0EgJJw5R"
      },
      "outputs": [],
      "source": [
        "from skimage.util import random_noise\n",
        "import matplotlib.pyplot as plt\n",
        "%matplotlib inline"
      ]
    },
    {
      "cell_type": "code",
      "execution_count": null,
      "metadata": {
        "id": "xmPd9nmlIknh"
      },
      "outputs": [],
      "source": [
        "#Custom Transform for adding noise\n",
        "class Add_Noise(object):\n",
        "\n",
        "    def __init__(self,mode):\n",
        "      assert isinstance(mode,str)\n",
        "      self.mode=mode\n",
        "\n",
        "    def __call__(self, image):\n",
        "      image = torch.tensor(random_noise(image, mode=self.mode, mean=0, var=0.1, clip=True),dtype=torch.float32)   \n",
        "      #print(image)\n",
        "      return image"
      ]
    },
    {
      "cell_type": "code",
      "execution_count": null,
      "metadata": {
        "id": "5spzzdhiko3o"
      },
      "outputs": [],
      "source": [
        " # TRAIN TEST SPLIT\n",
        "\n",
        "import torch\n",
        "import torchvision\n",
        "transforms_camera=torchvision.transforms.Compose([torchvision.transforms.ToTensor(),Add_Noise(\"gaussian\")])\n",
        "transforms_sonar=torchvision.transforms.Compose([torchvision.transforms.ToTensor()])\n",
        "\n",
        "camera_dataset = torchvision.datasets.ImageFolder(root='sonar_camera_group/camera_data',transform=transforms_camera)\n",
        "sonar_dataset = torchvision.datasets.ImageFolder(root='sonar_camera_group/sonar_data', transform=transforms_sonar)\n",
        "\n",
        "train_size = int(0.8 * len(camera_dataset))\n",
        "val_size = len(camera_dataset) - train_size\n",
        "\n",
        "camera_train, camera_test = torch.utils.data.random_split(camera_dataset, [train_size, val_size], generator=torch.Generator().manual_seed(0))\n",
        "sonar_train, sonar_test = torch.utils.data.random_split(sonar_dataset, [train_size, val_size], generator=torch.Generator().manual_seed(0))\n",
        "\n",
        "# check if same labels\n",
        "#for id in range(20):\n",
        "    #print(camera_train[id])\n",
        "    #print(sonar_train[id])\n",
        "    #print('\\n')\n"
      ]
    },
    {
      "cell_type": "code",
      "execution_count": null,
      "metadata": {
        "id": "BJ-Mk-b-dVZl"
      },
      "outputs": [],
      "source": [
        "\n",
        "train_loader_sonar = torch.utils.data.DataLoader(sonar_train, batch_size = 8, \n",
        "                                           shuffle = False,num_workers = 2, pin_memory = True)\n",
        "val_loader_sonar = torch.utils.data.DataLoader(sonar_test, batch_size = 8, \n",
        "                                         shuffle = False, num_workers = 2)\n",
        "train_loader_camera = torch.utils.data.DataLoader(camera_train, batch_size = 8, \n",
        "                                           shuffle = False,num_workers = 2, pin_memory = True)\n",
        "val_loader_camera = torch.utils.data.DataLoader(camera_test, batch_size = 8, \n",
        "                                         shuffle = False, num_workers = 2)"
      ]
    },
    {
      "cell_type": "code",
      "execution_count": null,
      "metadata": {
        "colab": {
          "base_uri": "https://localhost:8080/"
        },
        "id": "C5FIFaABfDGg",
        "outputId": "3732fd11-e485-4312-84eb-e45590cee7e6"
      },
      "outputs": [
        {
          "name": "stdout",
          "output_type": "stream",
          "text": [
            "1096 275\n",
            "1096 275\n"
          ]
        }
      ],
      "source": [
        "#for i,data in train_loader:\n",
        "  #print(i.shape)\n",
        "  #break\n",
        "print(len(sonar_train),len(sonar_test))\n",
        "print(len(camera_train),len(camera_test))"
      ]
    },
    {
      "cell_type": "code",
      "execution_count": null,
      "metadata": {
        "colab": {
          "base_uri": "https://localhost:8080/",
          "height": 35
        },
        "id": "HdAvYg-qLCyg",
        "outputId": "f967c25e-8327-42f6-fead-b045398ef06b"
      },
      "outputs": [
        {
          "data": {
            "application/vnd.google.colaboratory.intrinsic+json": {
              "type": "string"
            },
            "text/plain": [
              "'cuda'"
            ]
          },
          "execution_count": 122,
          "metadata": {},
          "output_type": "execute_result"
        }
      ],
      "source": [
        "device = 'cuda' if torch.cuda.is_available() else 'cpu'\n",
        "device"
      ]
    },
    {
      "cell_type": "code",
      "execution_count": null,
      "metadata": {
        "colab": {
          "base_uri": "https://localhost:8080/"
        },
        "id": "xC8Or1XquSoI",
        "outputId": "c8f74ebe-e7bd-4d9a-d28c-d0014ca7d90b"
      },
      "outputs": [
        {
          "name": "stdout",
          "output_type": "stream",
          "text": [
            "----------------------------------------------------------------\n",
            "        Layer (type)               Output Shape         Param #\n",
            "================================================================\n",
            "            Conv2d-1         [-1, 32, 255, 255]             896\n",
            "       BatchNorm2d-2         [-1, 32, 255, 255]              64\n",
            "              ReLU-3         [-1, 32, 255, 255]               0\n",
            "           Dropout-4         [-1, 32, 255, 255]               0\n",
            "            Conv2d-5         [-1, 64, 127, 127]           8,256\n",
            "       BatchNorm2d-6         [-1, 64, 127, 127]             128\n",
            "              ReLU-7         [-1, 64, 127, 127]               0\n",
            "           Dropout-8         [-1, 64, 127, 127]               0\n",
            "            Conv2d-9           [-1, 64, 63, 63]          16,448\n",
            "      BatchNorm2d-10           [-1, 64, 63, 63]             128\n",
            "             ReLU-11           [-1, 64, 63, 63]               0\n",
            "          Dropout-12           [-1, 64, 63, 63]               0\n",
            "           Conv2d-13           [-1, 64, 31, 31]          16,448\n",
            "      BatchNorm2d-14           [-1, 64, 31, 31]             128\n",
            "             ReLU-15           [-1, 64, 31, 31]               0\n",
            "          Flatten-16                [-1, 61504]               0\n",
            "           Linear-17                  [-1, 512]      31,490,560\n",
            "           Linear-18                    [-1, 5]           2,565\n",
            "================================================================\n",
            "Total params: 31,535,621\n",
            "Trainable params: 31,535,621\n",
            "Non-trainable params: 0\n",
            "----------------------------------------------------------------\n",
            "Input size (MB): 3.00\n",
            "Forward/backward pass size (MB): 104.64\n",
            "Params size (MB): 120.30\n",
            "Estimated Total Size (MB): 227.93\n",
            "----------------------------------------------------------------\n"
          ]
        }
      ],
      "source": [
        "class ImageClassifier(torch.nn.Module):\n",
        "\n",
        "    def __init__(self, num_classes=5):\n",
        "        super().__init__()\n",
        "        \n",
        "        self.net=nn.Sequential(nn.Conv2d(3,32,3,2),\n",
        "                               nn.BatchNorm2d(32),\n",
        "                               nn.ReLU(),\n",
        "                               nn.Dropout(p=0.2),\n",
        "                               nn.Conv2d(32,64,2,2),\n",
        "                               nn.BatchNorm2d(64),\n",
        "                               nn.ReLU(),\n",
        "                               nn.Dropout(p=0.2),\n",
        "                               nn.Conv2d(64,64,2,2),\n",
        "                               nn.BatchNorm2d(64),\n",
        "                               nn.ReLU(),\n",
        "                               nn.Dropout(p=0.2),\n",
        "                               nn.Conv2d(64,64,2,2),\n",
        "                               nn.BatchNorm2d(64),\n",
        "                               nn.ReLU(),\n",
        "                               torch.nn.Flatten(),\n",
        "                               nn.Linear(61504,512))\n",
        "\n",
        "        self.cls_layer = torch.nn.Linear(512,num_classes)#TODO\n",
        "        \n",
        "        \n",
        "    \n",
        "    def forward(self, x, return_feats=False):\n",
        "\n",
        "        feats=self.net(x)\n",
        "        out=self.cls_layer(feats)\n",
        "        return out\n",
        "        \n",
        "            \n",
        "camera_model = ImageClassifier().to(device)\n",
        "sonar_model=ImageClassifier().to(device)\n",
        "summary(camera_model,(3,512,512))"
      ]
    },
    {
      "cell_type": "code",
      "execution_count": null,
      "metadata": {
        "colab": {
          "base_uri": "https://localhost:8080/"
        },
        "id": "FTMoJkXTJdZT",
        "outputId": "fb847dc7-cdb6-41ea-e862-90425197aa2e"
      },
      "outputs": [
        {
          "name": "stdout",
          "output_type": "stream",
          "text": [
            "----------------------------------------------------------------\n",
            "        Layer (type)               Output Shape         Param #\n",
            "================================================================\n",
            "            Conv2d-1         [-1, 36, 255, 255]             360\n",
            "       BatchNorm2d-2         [-1, 36, 255, 255]              72\n",
            "              ReLU-3         [-1, 36, 255, 255]               0\n",
            "           Dropout-4         [-1, 36, 255, 255]               0\n",
            "            Conv2d-5         [-1, 72, 127, 127]             360\n",
            "       BatchNorm2d-6         [-1, 72, 127, 127]             144\n",
            "              ReLU-7         [-1, 72, 127, 127]               0\n",
            "           Dropout-8         [-1, 72, 127, 127]               0\n",
            "            Conv2d-9           [-1, 72, 63, 63]             360\n",
            "      BatchNorm2d-10           [-1, 72, 63, 63]             144\n",
            "             ReLU-11           [-1, 72, 63, 63]               0\n",
            "          Dropout-12           [-1, 72, 63, 63]               0\n",
            "           Conv2d-13           [-1, 72, 31, 31]             360\n",
            "      BatchNorm2d-14           [-1, 72, 31, 31]             144\n",
            "             ReLU-15           [-1, 72, 31, 31]               0\n",
            "          Flatten-16                [-1, 69192]               0\n",
            "           Linear-17                    [-1, 5]         345,965\n",
            "================================================================\n",
            "Total params: 347,909\n",
            "Trainable params: 347,909\n",
            "Non-trainable params: 0\n",
            "----------------------------------------------------------------\n",
            "Input size (MB): 6.00\n",
            "Forward/backward pass size (MB): 117.71\n",
            "Params size (MB): 1.33\n",
            "Estimated Total Size (MB): 125.04\n",
            "----------------------------------------------------------------\n"
          ]
        }
      ],
      "source": [
        "class Network_fused(torch.nn.Module):\n",
        "\n",
        "    def __init__(self, num_classes=5):\n",
        "        super().__init__()\n",
        "        \n",
        "        self.net=nn.Sequential(nn.Conv2d(6,36,3,2,groups=6),\n",
        "                               nn.BatchNorm2d(36),\n",
        "                               nn.ReLU(),\n",
        "                               nn.Dropout(p=0.2),\n",
        "                               nn.Conv2d(36,72,2,2,groups=36),\n",
        "                               nn.BatchNorm2d(72),\n",
        "                               nn.ReLU(),\n",
        "                               nn.Dropout(p=0.2),\n",
        "                               nn.Conv2d(72,72,2,2,groups=72),\n",
        "                               nn.BatchNorm2d(72),\n",
        "                               nn.ReLU(),\n",
        "                               nn.Dropout(p=0.2),\n",
        "                               nn.Conv2d(72,72,2,2,groups=72),\n",
        "                               nn.BatchNorm2d(72),\n",
        "                               nn.ReLU(),\n",
        "                               torch.nn.Flatten())\n",
        "\n",
        "        self.cls_layer = torch.nn.Linear(69192,num_classes)#TODO\n",
        "        \n",
        "        \n",
        "    \n",
        "    def forward(self, x, return_feats=False):\n",
        "\n",
        "        \n",
        "        feats=self.net(x)\n",
        "        out=self.cls_layer(feats)\n",
        "        return out\n",
        "        \n",
        "            \n",
        "model2 = Network_fused().to(device)\n",
        "summary(model2,(6,512,512))"
      ]
    },
    {
      "cell_type": "markdown",
      "metadata": {
        "id": "t76fo2u0FSc0"
      },
      "source": []
    },
    {
      "cell_type": "code",
      "execution_count": null,
      "metadata": {
        "id": "PVsXiD8hSmMF"
      },
      "outputs": [],
      "source": [
        "def train(model, camera_dataloader,sonar_dataloader, optimizer, criterion,mode=\"camera\"):\n",
        "    \n",
        "    model.train()\n",
        "\n",
        "    # Progress Bar \n",
        "    batch_bar = tqdm(total=len(camera_dataloader), dynamic_ncols=True, leave=False, position=0, desc='Train', ncols=5) \n",
        "    \n",
        "    num_correct = 0\n",
        "    total_loss = 0\n",
        "    if mode==\"camera\":\n",
        "      dataloader=camera_dataloader\n",
        "    elif mode==\"sonar\":\n",
        "      dataloader=sonar_dataloader\n",
        "    else:\n",
        "      dataloader=zip(camera_dataloader,sonar_dataloader)\n",
        "\n",
        "    for i, data in enumerate(dataloader):\n",
        "        \n",
        "        if mode==\"camera\" or mode==\"sonar\":\n",
        "          images=data[0]\n",
        "          labels=data[1]\n",
        "        else:\n",
        "          image_camera=data[0][0]\n",
        "          labels=data[0][1] #Same labels for both \n",
        "          image_sonar=data[1][0]\n",
        "          images=torch.concat([image_camera,image_sonar],dim=1)\n",
        "        \n",
        "        optimizer.zero_grad() # Zero gradients\n",
        "\n",
        "        images, labels = images.to(device), labels.to(device)\n",
        "        \n",
        "        with torch.cuda.amp.autocast(): # This implements mixed precision. Thats it! \n",
        "            outputs = model(images)\n",
        "            #print(outputs.shape)\n",
        "            #print(labels.shape)\n",
        "            loss = criterion(outputs, labels)\n",
        "\n",
        "        # Update no. of correct predictions & loss as we iterate\n",
        "        num_correct += int((torch.argmax(outputs, axis=1) == labels).sum())\n",
        "        total_loss += float(loss.item())\n",
        "\n",
        "        # tqdm lets you add some details so you can monitor training as you train.\n",
        "        batch_bar.set_postfix(\n",
        "            acc=\"{:.04f}%\".format(100 * num_correct / (8*(i + 1))),\n",
        "            loss=\"{:.04f}\".format(float(total_loss / (i + 1))),\n",
        "            num_correct=num_correct,\n",
        "            lr=\"{:.04f}\".format(float(optimizer.param_groups[0]['lr'])))\n",
        "        \n",
        "        loss.backward()\n",
        "        optimizer.step()\n",
        "\n",
        "        # TODO? Depending on your choice of scheduler,\n",
        "        # You may want to call some schdulers inside the train function. What are these?\n",
        "      \n",
        "        batch_bar.update() # Update tqdm bar\n",
        "\n",
        "    batch_bar.close() # You need this to close the tqdm bar\n",
        "\n",
        "    acc = 100 * num_correct / (8* len(camera_dataloader))\n",
        "    total_loss = float(total_loss / len(camera_dataloader))\n",
        "\n",
        "    return acc, total_loss"
      ]
    },
    {
      "cell_type": "code",
      "execution_count": null,
      "metadata": {
        "id": "RGJki59XgBtO"
      },
      "outputs": [],
      "source": [
        "def validate(model, camera_dataloader, sonar_dataloader,criterion,mode=\"camera\"):\n",
        "  \n",
        "    model.eval()\n",
        "    batch_bar = tqdm(total=len(camera_dataloader), dynamic_ncols=True, position=0, leave=False, desc='Val', ncols=5)\n",
        "\n",
        "    num_correct = 0.0\n",
        "    total_loss = 0.0\n",
        "\n",
        "    if mode==\"camera\":\n",
        "      dataloader=camera_dataloader\n",
        "    elif mode==\"sonar\":\n",
        "      dataloader=sonar_dataloader\n",
        "    else:\n",
        "      dataloader=zip(camera_dataloader,sonar_dataloader)\n",
        "\n",
        "    for i, data in enumerate(dataloader):\n",
        "        \n",
        "        if mode==\"camera\" or mode==\"sonar\":\n",
        "          images=data[0]\n",
        "          labels=data[1]\n",
        "        else:\n",
        "          image_camera=data[0][0]\n",
        "          labels=data[0][1] #Same labels for both \n",
        "          image_sonar=data[1][0]\n",
        "          images=torch.concat([image_camera,image_sonar],dim=1)\n",
        "\n",
        "\n",
        "        # Move images to device\n",
        "        images, labels = images.to(device), labels.to(device)\n",
        "        \n",
        "        # Get model outputs\n",
        "        with torch.inference_mode():\n",
        "            outputs = model(images)\n",
        "            loss = criterion(outputs, labels)\n",
        "\n",
        "        num_correct += int((torch.argmax(outputs, axis=1) == labels).sum())\n",
        "        total_loss += float(loss.item())\n",
        "\n",
        "        batch_bar.set_postfix(\n",
        "            acc=\"{:.04f}%\".format(100 * num_correct / (8*(i + 1))),\n",
        "            loss=\"{:.04f}\".format(float(total_loss / (i + 1))),\n",
        "            num_correct=num_correct)\n",
        "        batch_bar.update()\n",
        "        \n",
        "    batch_bar.close()\n",
        "    acc = 100 * num_correct / (8* len(camera_dataloader))\n",
        "    total_loss = float(total_loss / len(sonar_dataloader))\n",
        "    return acc, total_loss"
      ]
    },
    {
      "cell_type": "code",
      "execution_count": null,
      "metadata": {
        "id": "F8q2KtM7TIQL"
      },
      "outputs": [],
      "source": [
        "import gc\n",
        "gc.collect() # These commands help you when you face CUDA OOM error\n",
        "torch.cuda.empty_cache()"
      ]
    },
    {
      "cell_type": "markdown",
      "metadata": {
        "id": "bqTrt_vQs8w0"
      },
      "source": [
        "###UNIMODAL SONAR MODEL"
      ]
    },
    {
      "cell_type": "code",
      "execution_count": null,
      "metadata": {
        "id": "Dx0SIytAFdZI"
      },
      "outputs": [],
      "source": [
        "criterion = torch.nn.CrossEntropyLoss() # TODO: What loss do you need for a multi class classification problem?\n",
        "optimizer = torch.optim.Adam(sonar_model.parameters(), lr=1e-3)\n",
        "# scaler = torch.cuda.amp.GradScaler()"
      ]
    },
    {
      "cell_type": "code",
      "execution_count": null,
      "metadata": {
        "colab": {
          "base_uri": "https://localhost:8080/"
        },
        "id": "DUffi1nes_df",
        "outputId": "51548153-bf0b-4d1f-9e84-402c362e6dda"
      },
      "outputs": [
        {
          "name": "stderr",
          "output_type": "stream",
          "text": []
        },
        {
          "name": "stdout",
          "output_type": "stream",
          "text": [
            "\n",
            "Epoch 1/30: \n",
            "Train Acc 49.8175%\t Train Loss 5.4350\t\n"
          ]
        },
        {
          "name": "stderr",
          "output_type": "stream",
          "text": []
        },
        {
          "name": "stdout",
          "output_type": "stream",
          "text": [
            "Val Acc 64.2857%\t Val Loss 0.8738\n"
          ]
        },
        {
          "name": "stderr",
          "output_type": "stream",
          "text": []
        },
        {
          "name": "stdout",
          "output_type": "stream",
          "text": [
            "\n",
            "Epoch 2/30: \n",
            "Train Acc 72.7190%\t Train Loss 0.6938\t\n"
          ]
        },
        {
          "name": "stderr",
          "output_type": "stream",
          "text": []
        },
        {
          "name": "stdout",
          "output_type": "stream",
          "text": [
            "Val Acc 71.0714%\t Val Loss 0.7355\n"
          ]
        },
        {
          "name": "stderr",
          "output_type": "stream",
          "text": []
        },
        {
          "name": "stdout",
          "output_type": "stream",
          "text": [
            "\n",
            "Epoch 3/30: \n",
            "Train Acc 77.7372%\t Train Loss 0.5392\t\n"
          ]
        },
        {
          "name": "stderr",
          "output_type": "stream",
          "text": []
        },
        {
          "name": "stdout",
          "output_type": "stream",
          "text": [
            "Val Acc 71.7857%\t Val Loss 0.8143\n"
          ]
        },
        {
          "name": "stderr",
          "output_type": "stream",
          "text": []
        },
        {
          "name": "stdout",
          "output_type": "stream",
          "text": [
            "\n",
            "Epoch 4/30: \n",
            "Train Acc 80.8394%\t Train Loss 0.5163\t\n"
          ]
        },
        {
          "name": "stderr",
          "output_type": "stream",
          "text": []
        },
        {
          "name": "stdout",
          "output_type": "stream",
          "text": [
            "Val Acc 70.0000%\t Val Loss 0.9450\n"
          ]
        },
        {
          "name": "stderr",
          "output_type": "stream",
          "text": []
        },
        {
          "name": "stdout",
          "output_type": "stream",
          "text": [
            "\n",
            "Epoch 5/30: \n",
            "Train Acc 82.0255%\t Train Loss 0.5212\t\n"
          ]
        },
        {
          "name": "stderr",
          "output_type": "stream",
          "text": []
        },
        {
          "name": "stdout",
          "output_type": "stream",
          "text": [
            "Val Acc 67.5000%\t Val Loss 1.4189\n"
          ]
        },
        {
          "name": "stderr",
          "output_type": "stream",
          "text": []
        },
        {
          "name": "stdout",
          "output_type": "stream",
          "text": [
            "\n",
            "Epoch 6/30: \n",
            "Train Acc 82.4818%\t Train Loss 0.4838\t\n"
          ]
        },
        {
          "name": "stderr",
          "output_type": "stream",
          "text": []
        },
        {
          "name": "stdout",
          "output_type": "stream",
          "text": [
            "Val Acc 45.7143%\t Val Loss 4.4095\n"
          ]
        },
        {
          "name": "stderr",
          "output_type": "stream",
          "text": []
        },
        {
          "name": "stdout",
          "output_type": "stream",
          "text": [
            "\n",
            "Epoch 7/30: \n",
            "Train Acc 83.3942%\t Train Loss 0.4108\t\n"
          ]
        },
        {
          "name": "stderr",
          "output_type": "stream",
          "text": []
        },
        {
          "name": "stdout",
          "output_type": "stream",
          "text": [
            "Val Acc 69.6429%\t Val Loss 1.6543\n"
          ]
        },
        {
          "name": "stderr",
          "output_type": "stream",
          "text": []
        },
        {
          "name": "stdout",
          "output_type": "stream",
          "text": [
            "\n",
            "Epoch 8/30: \n",
            "Train Acc 83.7591%\t Train Loss 0.4610\t\n"
          ]
        },
        {
          "name": "stderr",
          "output_type": "stream",
          "text": []
        },
        {
          "name": "stdout",
          "output_type": "stream",
          "text": [
            "Val Acc 68.5714%\t Val Loss 1.3757\n"
          ]
        },
        {
          "name": "stderr",
          "output_type": "stream",
          "text": []
        },
        {
          "name": "stdout",
          "output_type": "stream",
          "text": [
            "\n",
            "Epoch 9/30: \n",
            "Train Acc 85.7664%\t Train Loss 0.3746\t\n"
          ]
        },
        {
          "name": "stderr",
          "output_type": "stream",
          "text": []
        },
        {
          "name": "stdout",
          "output_type": "stream",
          "text": [
            "Val Acc 70.3571%\t Val Loss 1.2806\n"
          ]
        },
        {
          "name": "stderr",
          "output_type": "stream",
          "text": []
        },
        {
          "name": "stdout",
          "output_type": "stream",
          "text": [
            "\n",
            "Epoch 10/30: \n",
            "Train Acc 86.8613%\t Train Loss 0.3349\t\n"
          ]
        },
        {
          "name": "stderr",
          "output_type": "stream",
          "text": []
        },
        {
          "name": "stdout",
          "output_type": "stream",
          "text": [
            "Val Acc 73.9286%\t Val Loss 1.1451\n"
          ]
        },
        {
          "name": "stderr",
          "output_type": "stream",
          "text": []
        },
        {
          "name": "stdout",
          "output_type": "stream",
          "text": [
            "\n",
            "Epoch 11/30: \n",
            "Train Acc 88.6861%\t Train Loss 0.2700\t\n"
          ]
        },
        {
          "name": "stderr",
          "output_type": "stream",
          "text": []
        },
        {
          "name": "stdout",
          "output_type": "stream",
          "text": [
            "Val Acc 74.6429%\t Val Loss 1.0459\n"
          ]
        },
        {
          "name": "stderr",
          "output_type": "stream",
          "text": []
        },
        {
          "name": "stdout",
          "output_type": "stream",
          "text": [
            "\n",
            "Epoch 12/30: \n",
            "Train Acc 85.5839%\t Train Loss 0.3325\t\n"
          ]
        },
        {
          "name": "stderr",
          "output_type": "stream",
          "text": []
        },
        {
          "name": "stdout",
          "output_type": "stream",
          "text": [
            "Val Acc 70.0000%\t Val Loss 1.3163\n"
          ]
        },
        {
          "name": "stderr",
          "output_type": "stream",
          "text": []
        },
        {
          "name": "stdout",
          "output_type": "stream",
          "text": [
            "\n",
            "Epoch 13/30: \n",
            "Train Acc 86.4051%\t Train Loss 0.4185\t\n"
          ]
        },
        {
          "name": "stderr",
          "output_type": "stream",
          "text": []
        },
        {
          "name": "stdout",
          "output_type": "stream",
          "text": [
            "Val Acc 67.8571%\t Val Loss 3.0765\n"
          ]
        },
        {
          "name": "stderr",
          "output_type": "stream",
          "text": []
        },
        {
          "name": "stdout",
          "output_type": "stream",
          "text": [
            "\n",
            "Epoch 14/30: \n",
            "Train Acc 84.0328%\t Train Loss 0.6439\t\n"
          ]
        },
        {
          "name": "stderr",
          "output_type": "stream",
          "text": []
        },
        {
          "name": "stdout",
          "output_type": "stream",
          "text": [
            "Val Acc 70.7143%\t Val Loss 1.4221\n"
          ]
        },
        {
          "name": "stderr",
          "output_type": "stream",
          "text": []
        },
        {
          "name": "stdout",
          "output_type": "stream",
          "text": [
            "\n",
            "Epoch 15/30: \n",
            "Train Acc 84.9453%\t Train Loss 0.4876\t\n"
          ]
        },
        {
          "name": "stderr",
          "output_type": "stream",
          "text": []
        },
        {
          "name": "stdout",
          "output_type": "stream",
          "text": [
            "Val Acc 71.4286%\t Val Loss 1.2093\n"
          ]
        },
        {
          "name": "stderr",
          "output_type": "stream",
          "text": []
        },
        {
          "name": "stdout",
          "output_type": "stream",
          "text": [
            "\n",
            "Epoch 16/30: \n",
            "Train Acc 87.8650%\t Train Loss 0.2725\t\n"
          ]
        },
        {
          "name": "stderr",
          "output_type": "stream",
          "text": []
        },
        {
          "name": "stdout",
          "output_type": "stream",
          "text": [
            "Val Acc 73.2143%\t Val Loss 1.3080\n"
          ]
        },
        {
          "name": "stderr",
          "output_type": "stream",
          "text": []
        },
        {
          "name": "stdout",
          "output_type": "stream",
          "text": [
            "\n",
            "Epoch 17/30: \n",
            "Train Acc 88.9599%\t Train Loss 0.2420\t\n"
          ]
        },
        {
          "name": "stderr",
          "output_type": "stream",
          "text": []
        },
        {
          "name": "stdout",
          "output_type": "stream",
          "text": [
            "Val Acc 73.2143%\t Val Loss 1.4187\n"
          ]
        },
        {
          "name": "stderr",
          "output_type": "stream",
          "text": []
        },
        {
          "name": "stdout",
          "output_type": "stream",
          "text": [
            "\n",
            "Epoch 18/30: \n",
            "Train Acc 89.1423%\t Train Loss 0.2372\t\n"
          ]
        },
        {
          "name": "stderr",
          "output_type": "stream",
          "text": []
        },
        {
          "name": "stdout",
          "output_type": "stream",
          "text": [
            "Val Acc 72.8571%\t Val Loss 1.5390\n"
          ]
        },
        {
          "name": "stderr",
          "output_type": "stream",
          "text": []
        },
        {
          "name": "stdout",
          "output_type": "stream",
          "text": [
            "\n",
            "Epoch 19/30: \n",
            "Train Acc 89.2336%\t Train Loss 0.2330\t\n"
          ]
        },
        {
          "name": "stderr",
          "output_type": "stream",
          "text": []
        },
        {
          "name": "stdout",
          "output_type": "stream",
          "text": [
            "Val Acc 73.5714%\t Val Loss 1.5138\n"
          ]
        },
        {
          "name": "stderr",
          "output_type": "stream",
          "text": []
        },
        {
          "name": "stdout",
          "output_type": "stream",
          "text": [
            "\n",
            "Epoch 20/30: \n",
            "Train Acc 88.9599%\t Train Loss 0.2377\t\n"
          ]
        },
        {
          "name": "stderr",
          "output_type": "stream",
          "text": []
        },
        {
          "name": "stdout",
          "output_type": "stream",
          "text": [
            "Val Acc 71.4286%\t Val Loss 1.5116\n"
          ]
        },
        {
          "name": "stderr",
          "output_type": "stream",
          "text": []
        },
        {
          "name": "stdout",
          "output_type": "stream",
          "text": [
            "\n",
            "Epoch 21/30: \n",
            "Train Acc 89.1423%\t Train Loss 0.2427\t\n"
          ]
        },
        {
          "name": "stderr",
          "output_type": "stream",
          "text": []
        },
        {
          "name": "stdout",
          "output_type": "stream",
          "text": [
            "Val Acc 69.2857%\t Val Loss 1.7334\n"
          ]
        },
        {
          "name": "stderr",
          "output_type": "stream",
          "text": []
        },
        {
          "name": "stdout",
          "output_type": "stream",
          "text": [
            "\n",
            "Epoch 22/30: \n",
            "Train Acc 89.0511%\t Train Loss 0.2470\t\n"
          ]
        },
        {
          "name": "stderr",
          "output_type": "stream",
          "text": []
        },
        {
          "name": "stdout",
          "output_type": "stream",
          "text": [
            "Val Acc 71.4286%\t Val Loss 1.7863\n"
          ]
        },
        {
          "name": "stderr",
          "output_type": "stream",
          "text": []
        },
        {
          "name": "stdout",
          "output_type": "stream",
          "text": [
            "\n",
            "Epoch 23/30: \n",
            "Train Acc 89.2336%\t Train Loss 0.2362\t\n"
          ]
        },
        {
          "name": "stderr",
          "output_type": "stream",
          "text": []
        },
        {
          "name": "stdout",
          "output_type": "stream",
          "text": [
            "Val Acc 73.5714%\t Val Loss 1.9243\n"
          ]
        },
        {
          "name": "stderr",
          "output_type": "stream",
          "text": []
        },
        {
          "name": "stdout",
          "output_type": "stream",
          "text": [
            "\n",
            "Epoch 24/30: \n",
            "Train Acc 89.1423%\t Train Loss 0.2485\t\n"
          ]
        },
        {
          "name": "stderr",
          "output_type": "stream",
          "text": []
        },
        {
          "name": "stdout",
          "output_type": "stream",
          "text": [
            "Val Acc 72.8571%\t Val Loss 1.9703\n"
          ]
        },
        {
          "name": "stderr",
          "output_type": "stream",
          "text": []
        },
        {
          "name": "stdout",
          "output_type": "stream",
          "text": [
            "\n",
            "Epoch 25/30: \n",
            "Train Acc 87.8650%\t Train Loss 0.3763\t\n"
          ]
        },
        {
          "name": "stderr",
          "output_type": "stream",
          "text": []
        },
        {
          "name": "stdout",
          "output_type": "stream",
          "text": [
            "Val Acc 66.7857%\t Val Loss 2.7718\n"
          ]
        },
        {
          "name": "stderr",
          "output_type": "stream",
          "text": []
        },
        {
          "name": "stdout",
          "output_type": "stream",
          "text": [
            "\n",
            "Epoch 26/30: \n",
            "Train Acc 80.5657%\t Train Loss 1.2990\t\n"
          ]
        },
        {
          "name": "stderr",
          "output_type": "stream",
          "text": []
        },
        {
          "name": "stdout",
          "output_type": "stream",
          "text": [
            "Val Acc 66.4286%\t Val Loss 3.0931\n"
          ]
        },
        {
          "name": "stderr",
          "output_type": "stream",
          "text": []
        },
        {
          "name": "stdout",
          "output_type": "stream",
          "text": [
            "\n",
            "Epoch 27/30: \n",
            "Train Acc 78.9234%\t Train Loss 1.2049\t\n"
          ]
        },
        {
          "name": "stderr",
          "output_type": "stream",
          "text": []
        },
        {
          "name": "stdout",
          "output_type": "stream",
          "text": [
            "Val Acc 71.7857%\t Val Loss 1.9736\n"
          ]
        },
        {
          "name": "stderr",
          "output_type": "stream",
          "text": []
        },
        {
          "name": "stdout",
          "output_type": "stream",
          "text": [
            "\n",
            "Epoch 28/30: \n",
            "Train Acc 83.3029%\t Train Loss 0.6731\t\n"
          ]
        },
        {
          "name": "stderr",
          "output_type": "stream",
          "text": []
        },
        {
          "name": "stdout",
          "output_type": "stream",
          "text": [
            "Val Acc 63.2143%\t Val Loss 5.2713\n"
          ]
        },
        {
          "name": "stderr",
          "output_type": "stream",
          "text": []
        },
        {
          "name": "stdout",
          "output_type": "stream",
          "text": [
            "\n",
            "Epoch 29/30: \n",
            "Train Acc 85.4927%\t Train Loss 0.5339\t\n"
          ]
        },
        {
          "name": "stderr",
          "output_type": "stream",
          "text": []
        },
        {
          "name": "stdout",
          "output_type": "stream",
          "text": [
            "Val Acc 68.9286%\t Val Loss 3.5440\n"
          ]
        },
        {
          "name": "stderr",
          "output_type": "stream",
          "text": []
        },
        {
          "name": "stdout",
          "output_type": "stream",
          "text": [
            "\n",
            "Epoch 30/30: \n",
            "Train Acc 86.4964%\t Train Loss 0.4436\t\n"
          ]
        },
        {
          "name": "stderr",
          "output_type": "stream",
          "text": [
            "                                                                                                "
          ]
        },
        {
          "name": "stdout",
          "output_type": "stream",
          "text": [
            "Val Acc 71.7857%\t Val Loss 3.7904\n"
          ]
        },
        {
          "name": "stderr",
          "output_type": "stream",
          "text": [
            "\r"
          ]
        }
      ],
      "source": [
        "\n",
        "for epoch in range(0,30):\n",
        "\n",
        "    train_acc, train_loss = train(sonar_model, train_loader_camera,train_loader_sonar,optimizer, criterion,mode=\"sonar\")\n",
        "    \n",
        "    print(\"\\nEpoch {}/{}: \\nTrain Acc {:.04f}%\\t Train Loss {:.04f}\\t\".format(\n",
        "        epoch + 1,\n",
        "        30,\n",
        "        train_acc,\n",
        "        train_loss))\n",
        "    \n",
        "    val_acc, val_loss = validate(sonar_model, val_loader_camera,val_loader_sonar, criterion,mode=\"sonar\")\n",
        "    print(\"Val Acc {:.04f}%\\t Val Loss {:.04f}\".format(val_acc, val_loss))"
      ]
    },
    {
      "cell_type": "code",
      "execution_count": null,
      "metadata": {
        "id": "Yg8WmY_HvUK5"
      },
      "outputs": [],
      "source": [
        "torch.save(sonar_model.state_dict(), \"/content/drive/MyDrive/IDL Project/sonar_model_final1.pt\")"
      ]
    },
    {
      "cell_type": "markdown",
      "metadata": {
        "id": "8GonaJjrtBL8"
      },
      "source": [
        "###UNIMODAL CAMERA MODEL"
      ]
    },
    {
      "cell_type": "code",
      "execution_count": null,
      "metadata": {
        "id": "STGY8wEmHMM2"
      },
      "outputs": [],
      "source": [
        "criterion = torch.nn.CrossEntropyLoss() # TODO: What loss do you need for a multi class classification problem?\n",
        "optimizer = torch.optim.Adam(camera_model.parameters(), lr=1e-3)\n",
        "# scaler = torch.cuda.amp.GradScaler()"
      ]
    },
    {
      "cell_type": "code",
      "execution_count": null,
      "metadata": {
        "colab": {
          "base_uri": "https://localhost:8080/"
        },
        "id": "My4X0d3dtFnP",
        "outputId": "86a44844-6f8f-4ef3-94a1-7029c86e5290"
      },
      "outputs": [
        {
          "name": "stderr",
          "output_type": "stream",
          "text": []
        },
        {
          "name": "stdout",
          "output_type": "stream",
          "text": [
            "\n",
            "Epoch 1/30: \n",
            "Train Acc 51.1861%\t Train Loss 16.4936\t\n"
          ]
        },
        {
          "name": "stderr",
          "output_type": "stream",
          "text": []
        },
        {
          "name": "stdout",
          "output_type": "stream",
          "text": [
            "Val Acc 67.8571%\t Val Loss 2.6352\n"
          ]
        },
        {
          "name": "stderr",
          "output_type": "stream",
          "text": []
        },
        {
          "name": "stdout",
          "output_type": "stream",
          "text": [
            "\n",
            "Epoch 2/30: \n",
            "Train Acc 70.4380%\t Train Loss 1.6450\t\n"
          ]
        },
        {
          "name": "stderr",
          "output_type": "stream",
          "text": []
        },
        {
          "name": "stdout",
          "output_type": "stream",
          "text": [
            "Val Acc 74.2857%\t Val Loss 0.7272\n"
          ]
        },
        {
          "name": "stderr",
          "output_type": "stream",
          "text": []
        },
        {
          "name": "stdout",
          "output_type": "stream",
          "text": [
            "\n",
            "Epoch 3/30: \n",
            "Train Acc 82.2080%\t Train Loss 0.6002\t\n"
          ]
        },
        {
          "name": "stderr",
          "output_type": "stream",
          "text": []
        },
        {
          "name": "stdout",
          "output_type": "stream",
          "text": [
            "Val Acc 80.0000%\t Val Loss 0.4655\n"
          ]
        },
        {
          "name": "stderr",
          "output_type": "stream",
          "text": []
        },
        {
          "name": "stdout",
          "output_type": "stream",
          "text": [
            "\n",
            "Epoch 4/30: \n",
            "Train Acc 88.2299%\t Train Loss 0.3274\t\n"
          ]
        },
        {
          "name": "stderr",
          "output_type": "stream",
          "text": []
        },
        {
          "name": "stdout",
          "output_type": "stream",
          "text": [
            "Val Acc 79.6429%\t Val Loss 0.5590\n"
          ]
        },
        {
          "name": "stderr",
          "output_type": "stream",
          "text": []
        },
        {
          "name": "stdout",
          "output_type": "stream",
          "text": [
            "\n",
            "Epoch 5/30: \n",
            "Train Acc 90.8759%\t Train Loss 0.2486\t\n"
          ]
        },
        {
          "name": "stderr",
          "output_type": "stream",
          "text": []
        },
        {
          "name": "stdout",
          "output_type": "stream",
          "text": [
            "Val Acc 86.0714%\t Val Loss 0.4649\n"
          ]
        },
        {
          "name": "stderr",
          "output_type": "stream",
          "text": []
        },
        {
          "name": "stdout",
          "output_type": "stream",
          "text": [
            "\n",
            "Epoch 6/30: \n",
            "Train Acc 92.3358%\t Train Loss 0.2183\t\n"
          ]
        },
        {
          "name": "stderr",
          "output_type": "stream",
          "text": []
        },
        {
          "name": "stdout",
          "output_type": "stream",
          "text": [
            "Val Acc 86.7857%\t Val Loss 0.5703\n"
          ]
        },
        {
          "name": "stderr",
          "output_type": "stream",
          "text": []
        },
        {
          "name": "stdout",
          "output_type": "stream",
          "text": [
            "\n",
            "Epoch 7/30: \n",
            "Train Acc 90.8759%\t Train Loss 0.2497\t\n"
          ]
        },
        {
          "name": "stderr",
          "output_type": "stream",
          "text": []
        },
        {
          "name": "stdout",
          "output_type": "stream",
          "text": [
            "Val Acc 81.0714%\t Val Loss 0.7168\n"
          ]
        },
        {
          "name": "stderr",
          "output_type": "stream",
          "text": []
        },
        {
          "name": "stdout",
          "output_type": "stream",
          "text": [
            "\n",
            "Epoch 8/30: \n",
            "Train Acc 91.1496%\t Train Loss 0.2793\t\n"
          ]
        },
        {
          "name": "stderr",
          "output_type": "stream",
          "text": []
        },
        {
          "name": "stdout",
          "output_type": "stream",
          "text": [
            "Val Acc 86.4286%\t Val Loss 0.4840\n"
          ]
        },
        {
          "name": "stderr",
          "output_type": "stream",
          "text": []
        },
        {
          "name": "stdout",
          "output_type": "stream",
          "text": [
            "\n",
            "Epoch 9/30: \n",
            "Train Acc 93.1569%\t Train Loss 0.2825\t\n"
          ]
        },
        {
          "name": "stderr",
          "output_type": "stream",
          "text": []
        },
        {
          "name": "stdout",
          "output_type": "stream",
          "text": [
            "Val Acc 86.0714%\t Val Loss 0.5293\n"
          ]
        },
        {
          "name": "stderr",
          "output_type": "stream",
          "text": []
        },
        {
          "name": "stdout",
          "output_type": "stream",
          "text": [
            "\n",
            "Epoch 10/30: \n",
            "Train Acc 89.7810%\t Train Loss 0.4042\t\n"
          ]
        },
        {
          "name": "stderr",
          "output_type": "stream",
          "text": []
        },
        {
          "name": "stdout",
          "output_type": "stream",
          "text": [
            "Val Acc 72.8571%\t Val Loss 2.0760\n"
          ]
        },
        {
          "name": "stderr",
          "output_type": "stream",
          "text": []
        },
        {
          "name": "stdout",
          "output_type": "stream",
          "text": [
            "\n",
            "Epoch 11/30: \n",
            "Train Acc 87.9562%\t Train Loss 0.6968\t\n"
          ]
        },
        {
          "name": "stderr",
          "output_type": "stream",
          "text": []
        },
        {
          "name": "stdout",
          "output_type": "stream",
          "text": [
            "Val Acc 84.2857%\t Val Loss 1.4597\n"
          ]
        },
        {
          "name": "stderr",
          "output_type": "stream",
          "text": []
        },
        {
          "name": "stdout",
          "output_type": "stream",
          "text": [
            "\n",
            "Epoch 12/30: \n",
            "Train Acc 92.7920%\t Train Loss 0.3768\t\n"
          ]
        },
        {
          "name": "stderr",
          "output_type": "stream",
          "text": []
        },
        {
          "name": "stdout",
          "output_type": "stream",
          "text": [
            "Val Acc 86.0714%\t Val Loss 1.2133\n"
          ]
        },
        {
          "name": "stderr",
          "output_type": "stream",
          "text": []
        },
        {
          "name": "stdout",
          "output_type": "stream",
          "text": [
            "\n",
            "Epoch 13/30: \n",
            "Train Acc 92.7920%\t Train Loss 0.3679\t\n"
          ]
        },
        {
          "name": "stderr",
          "output_type": "stream",
          "text": []
        },
        {
          "name": "stdout",
          "output_type": "stream",
          "text": [
            "Val Acc 82.8571%\t Val Loss 1.0460\n"
          ]
        },
        {
          "name": "stderr",
          "output_type": "stream",
          "text": []
        },
        {
          "name": "stdout",
          "output_type": "stream",
          "text": [
            "\n",
            "Epoch 14/30: \n",
            "Train Acc 96.1679%\t Train Loss 0.1914\t\n"
          ]
        },
        {
          "name": "stderr",
          "output_type": "stream",
          "text": []
        },
        {
          "name": "stdout",
          "output_type": "stream",
          "text": [
            "Val Acc 91.7857%\t Val Loss 0.7184\n"
          ]
        },
        {
          "name": "stderr",
          "output_type": "stream",
          "text": []
        },
        {
          "name": "stdout",
          "output_type": "stream",
          "text": [
            "\n",
            "Epoch 15/30: \n",
            "Train Acc 97.2628%\t Train Loss 0.0975\t\n"
          ]
        },
        {
          "name": "stderr",
          "output_type": "stream",
          "text": []
        },
        {
          "name": "stdout",
          "output_type": "stream",
          "text": [
            "Val Acc 85.3571%\t Val Loss 1.1208\n"
          ]
        },
        {
          "name": "stderr",
          "output_type": "stream",
          "text": []
        },
        {
          "name": "stdout",
          "output_type": "stream",
          "text": [
            "\n",
            "Epoch 16/30: \n",
            "Train Acc 92.6095%\t Train Loss 0.4632\t\n"
          ]
        },
        {
          "name": "stderr",
          "output_type": "stream",
          "text": []
        },
        {
          "name": "stdout",
          "output_type": "stream",
          "text": [
            "Val Acc 89.6429%\t Val Loss 1.2003\n"
          ]
        },
        {
          "name": "stderr",
          "output_type": "stream",
          "text": []
        },
        {
          "name": "stdout",
          "output_type": "stream",
          "text": [
            "\n",
            "Epoch 17/30: \n",
            "Train Acc 96.3504%\t Train Loss 0.1665\t\n"
          ]
        },
        {
          "name": "stderr",
          "output_type": "stream",
          "text": []
        },
        {
          "name": "stdout",
          "output_type": "stream",
          "text": [
            "Val Acc 88.5714%\t Val Loss 0.7045\n"
          ]
        },
        {
          "name": "stderr",
          "output_type": "stream",
          "text": []
        },
        {
          "name": "stdout",
          "output_type": "stream",
          "text": [
            "\n",
            "Epoch 18/30: \n",
            "Train Acc 95.6204%\t Train Loss 0.2344\t\n"
          ]
        },
        {
          "name": "stderr",
          "output_type": "stream",
          "text": []
        },
        {
          "name": "stdout",
          "output_type": "stream",
          "text": [
            "Val Acc 85.7143%\t Val Loss 1.5779\n"
          ]
        },
        {
          "name": "stderr",
          "output_type": "stream",
          "text": []
        },
        {
          "name": "stdout",
          "output_type": "stream",
          "text": [
            "\n",
            "Epoch 19/30: \n",
            "Train Acc 96.4416%\t Train Loss 0.2548\t\n"
          ]
        },
        {
          "name": "stderr",
          "output_type": "stream",
          "text": []
        },
        {
          "name": "stdout",
          "output_type": "stream",
          "text": [
            "Val Acc 87.1429%\t Val Loss 0.9645\n"
          ]
        },
        {
          "name": "stderr",
          "output_type": "stream",
          "text": []
        },
        {
          "name": "stdout",
          "output_type": "stream",
          "text": [
            "\n",
            "Epoch 20/30: \n",
            "Train Acc 97.9015%\t Train Loss 0.1151\t\n"
          ]
        },
        {
          "name": "stderr",
          "output_type": "stream",
          "text": []
        },
        {
          "name": "stdout",
          "output_type": "stream",
          "text": [
            "Val Acc 91.0714%\t Val Loss 0.7486\n"
          ]
        },
        {
          "name": "stderr",
          "output_type": "stream",
          "text": []
        },
        {
          "name": "stdout",
          "output_type": "stream",
          "text": [
            "\n",
            "Epoch 21/30: \n",
            "Train Acc 96.8978%\t Train Loss 0.1570\t\n"
          ]
        },
        {
          "name": "stderr",
          "output_type": "stream",
          "text": []
        },
        {
          "name": "stdout",
          "output_type": "stream",
          "text": [
            "Val Acc 89.2857%\t Val Loss 0.9529\n"
          ]
        },
        {
          "name": "stderr",
          "output_type": "stream",
          "text": []
        },
        {
          "name": "stdout",
          "output_type": "stream",
          "text": [
            "\n",
            "Epoch 22/30: \n",
            "Train Acc 93.9781%\t Train Loss 0.4703\t\n"
          ]
        },
        {
          "name": "stderr",
          "output_type": "stream",
          "text": []
        },
        {
          "name": "stdout",
          "output_type": "stream",
          "text": [
            "Val Acc 78.5714%\t Val Loss 2.3402\n"
          ]
        },
        {
          "name": "stderr",
          "output_type": "stream",
          "text": []
        },
        {
          "name": "stdout",
          "output_type": "stream",
          "text": [
            "\n",
            "Epoch 23/30: \n",
            "Train Acc 97.3540%\t Train Loss 0.2239\t\n"
          ]
        },
        {
          "name": "stderr",
          "output_type": "stream",
          "text": []
        },
        {
          "name": "stdout",
          "output_type": "stream",
          "text": [
            "Val Acc 88.9286%\t Val Loss 2.7094\n"
          ]
        },
        {
          "name": "stderr",
          "output_type": "stream",
          "text": []
        },
        {
          "name": "stdout",
          "output_type": "stream",
          "text": [
            "\n",
            "Epoch 24/30: \n",
            "Train Acc 95.4380%\t Train Loss 0.4028\t\n"
          ]
        },
        {
          "name": "stderr",
          "output_type": "stream",
          "text": []
        },
        {
          "name": "stdout",
          "output_type": "stream",
          "text": [
            "Val Acc 86.4286%\t Val Loss 1.8941\n"
          ]
        },
        {
          "name": "stderr",
          "output_type": "stream",
          "text": []
        },
        {
          "name": "stdout",
          "output_type": "stream",
          "text": [
            "\n",
            "Epoch 25/30: \n",
            "Train Acc 95.3467%\t Train Loss 0.4670\t\n"
          ]
        },
        {
          "name": "stderr",
          "output_type": "stream",
          "text": []
        },
        {
          "name": "stdout",
          "output_type": "stream",
          "text": [
            "Val Acc 91.4286%\t Val Loss 0.8403\n"
          ]
        },
        {
          "name": "stderr",
          "output_type": "stream",
          "text": []
        },
        {
          "name": "stdout",
          "output_type": "stream",
          "text": [
            "\n",
            "Epoch 26/30: \n",
            "Train Acc 98.5401%\t Train Loss 0.0776\t\n"
          ]
        },
        {
          "name": "stderr",
          "output_type": "stream",
          "text": []
        },
        {
          "name": "stdout",
          "output_type": "stream",
          "text": [
            "Val Acc 89.2857%\t Val Loss 1.3076\n"
          ]
        },
        {
          "name": "stderr",
          "output_type": "stream",
          "text": []
        },
        {
          "name": "stdout",
          "output_type": "stream",
          "text": [
            "\n",
            "Epoch 27/30: \n",
            "Train Acc 97.8102%\t Train Loss 0.1508\t\n"
          ]
        },
        {
          "name": "stderr",
          "output_type": "stream",
          "text": []
        },
        {
          "name": "stdout",
          "output_type": "stream",
          "text": [
            "Val Acc 93.2143%\t Val Loss 0.6558\n"
          ]
        },
        {
          "name": "stderr",
          "output_type": "stream",
          "text": []
        },
        {
          "name": "stdout",
          "output_type": "stream",
          "text": [
            "\n",
            "Epoch 28/30: \n",
            "Train Acc 99.1788%\t Train Loss 0.0289\t\n"
          ]
        },
        {
          "name": "stderr",
          "output_type": "stream",
          "text": []
        },
        {
          "name": "stdout",
          "output_type": "stream",
          "text": [
            "Val Acc 91.4286%\t Val Loss 0.9584\n"
          ]
        },
        {
          "name": "stderr",
          "output_type": "stream",
          "text": []
        },
        {
          "name": "stdout",
          "output_type": "stream",
          "text": [
            "\n",
            "Epoch 29/30: \n",
            "Train Acc 98.9964%\t Train Loss 0.0514\t\n"
          ]
        },
        {
          "name": "stderr",
          "output_type": "stream",
          "text": []
        },
        {
          "name": "stdout",
          "output_type": "stream",
          "text": [
            "Val Acc 92.5000%\t Val Loss 1.0477\n"
          ]
        },
        {
          "name": "stderr",
          "output_type": "stream",
          "text": []
        },
        {
          "name": "stdout",
          "output_type": "stream",
          "text": [
            "\n",
            "Epoch 30/30: \n",
            "Train Acc 98.9051%\t Train Loss 0.0655\t\n"
          ]
        },
        {
          "name": "stderr",
          "output_type": "stream",
          "text": [
            "                                                                                                "
          ]
        },
        {
          "name": "stdout",
          "output_type": "stream",
          "text": [
            "Val Acc 92.5000%\t Val Loss 0.9153\n"
          ]
        },
        {
          "name": "stderr",
          "output_type": "stream",
          "text": [
            "\r"
          ]
        }
      ],
      "source": [
        "for epoch in range(0,30):\n",
        "\n",
        "    train_acc, train_loss = train(camera_model, train_loader_camera,train_loader_sonar,optimizer, criterion,mode=\"camera\")\n",
        "    \n",
        "    print(\"\\nEpoch {}/{}: \\nTrain Acc {:.04f}%\\t Train Loss {:.04f}\\t\".format(\n",
        "        epoch + 1,\n",
        "        30,\n",
        "        train_acc,\n",
        "        train_loss))\n",
        "    \n",
        "    val_acc, val_loss = validate(camera_model, val_loader_camera,val_loader_sonar, criterion,mode=\"camera\")\n",
        "    print(\"Val Acc {:.04f}%\\t Val Loss {:.04f}\".format(val_acc, val_loss))"
      ]
    },
    {
      "cell_type": "code",
      "execution_count": null,
      "metadata": {
        "id": "waXWjz-lxW5k"
      },
      "outputs": [],
      "source": [
        "torch.save(camera_model.state_dict(), \"/content/drive/MyDrive/IDL Project/camera_model_final1.pt\")"
      ]
    },
    {
      "cell_type": "markdown",
      "metadata": {
        "id": "AOHO351LswZr"
      },
      "source": [
        "### Train with concatenated channel embeddings"
      ]
    },
    {
      "cell_type": "code",
      "execution_count": null,
      "metadata": {
        "colab": {
          "base_uri": "https://localhost:8080/"
        },
        "id": "J7TffwKGTOW0",
        "outputId": "2246e753-e086-45df-c899-e777251da493"
      },
      "outputs": [
        {
          "name": "stderr",
          "output_type": "stream",
          "text": []
        },
        {
          "name": "stdout",
          "output_type": "stream",
          "text": [
            "\n",
            "Epoch 1/20: \n",
            "Train Acc 19.8370%\t Train Loss 1.6785\t\n"
          ]
        },
        {
          "name": "stderr",
          "output_type": "stream",
          "text": []
        },
        {
          "name": "stdout",
          "output_type": "stream",
          "text": [
            "Val Acc 16.6667%\t Val Loss 1.6157\n"
          ]
        },
        {
          "name": "stderr",
          "output_type": "stream",
          "text": []
        },
        {
          "name": "stdout",
          "output_type": "stream",
          "text": [
            "\n",
            "Epoch 2/20: \n",
            "Train Acc 19.3841%\t Train Loss 1.6733\t\n"
          ]
        },
        {
          "name": "stderr",
          "output_type": "stream",
          "text": []
        },
        {
          "name": "stdout",
          "output_type": "stream",
          "text": [
            "Val Acc 20.1389%\t Val Loss 1.6254\n"
          ]
        },
        {
          "name": "stderr",
          "output_type": "stream",
          "text": []
        },
        {
          "name": "stdout",
          "output_type": "stream",
          "text": [
            "\n",
            "Epoch 3/20: \n",
            "Train Acc 19.2935%\t Train Loss 1.6723\t\n"
          ]
        },
        {
          "name": "stderr",
          "output_type": "stream",
          "text": []
        },
        {
          "name": "stdout",
          "output_type": "stream",
          "text": [
            "Val Acc 20.1389%\t Val Loss 1.6261\n"
          ]
        },
        {
          "name": "stderr",
          "output_type": "stream",
          "text": []
        },
        {
          "name": "stdout",
          "output_type": "stream",
          "text": [
            "\n",
            "Epoch 4/20: \n",
            "Train Acc 19.2935%\t Train Loss 1.6808\t\n"
          ]
        },
        {
          "name": "stderr",
          "output_type": "stream",
          "text": []
        },
        {
          "name": "stdout",
          "output_type": "stream",
          "text": [
            "Val Acc 19.7917%\t Val Loss 1.6258\n"
          ]
        },
        {
          "name": "stderr",
          "output_type": "stream",
          "text": []
        },
        {
          "name": "stdout",
          "output_type": "stream",
          "text": [
            "\n",
            "Epoch 5/20: \n",
            "Train Acc 18.2971%\t Train Loss 1.6887\t\n"
          ]
        },
        {
          "name": "stderr",
          "output_type": "stream",
          "text": []
        },
        {
          "name": "stdout",
          "output_type": "stream",
          "text": [
            "Val Acc 19.4444%\t Val Loss 1.6261\n"
          ]
        },
        {
          "name": "stderr",
          "output_type": "stream",
          "text": []
        },
        {
          "name": "stdout",
          "output_type": "stream",
          "text": [
            "\n",
            "Epoch 6/20: \n",
            "Train Acc 19.9275%\t Train Loss 1.6765\t\n"
          ]
        },
        {
          "name": "stderr",
          "output_type": "stream",
          "text": []
        },
        {
          "name": "stdout",
          "output_type": "stream",
          "text": [
            "Val Acc 19.4444%\t Val Loss 1.6262\n"
          ]
        },
        {
          "name": "stderr",
          "output_type": "stream",
          "text": []
        },
        {
          "name": "stdout",
          "output_type": "stream",
          "text": [
            "\n",
            "Epoch 7/20: \n",
            "Train Acc 19.6558%\t Train Loss 1.6564\t\n"
          ]
        },
        {
          "name": "stderr",
          "output_type": "stream",
          "text": []
        },
        {
          "name": "stdout",
          "output_type": "stream",
          "text": [
            "Val Acc 19.7917%\t Val Loss 1.6256\n"
          ]
        },
        {
          "name": "stderr",
          "output_type": "stream",
          "text": []
        },
        {
          "name": "stdout",
          "output_type": "stream",
          "text": [
            "\n",
            "Epoch 8/20: \n",
            "Train Acc 20.1087%\t Train Loss 1.6764\t\n"
          ]
        },
        {
          "name": "stderr",
          "output_type": "stream",
          "text": []
        },
        {
          "name": "stdout",
          "output_type": "stream",
          "text": [
            "Val Acc 19.7917%\t Val Loss 1.6257\n"
          ]
        },
        {
          "name": "stderr",
          "output_type": "stream",
          "text": []
        },
        {
          "name": "stdout",
          "output_type": "stream",
          "text": [
            "\n",
            "Epoch 9/20: \n",
            "Train Acc 18.7500%\t Train Loss 1.6741\t\n"
          ]
        },
        {
          "name": "stderr",
          "output_type": "stream",
          "text": []
        },
        {
          "name": "stdout",
          "output_type": "stream",
          "text": [
            "Val Acc 19.4444%\t Val Loss 1.6263\n"
          ]
        },
        {
          "name": "stderr",
          "output_type": "stream",
          "text": []
        },
        {
          "name": "stdout",
          "output_type": "stream",
          "text": [
            "\n",
            "Epoch 10/20: \n",
            "Train Acc 21.6486%\t Train Loss 1.6600\t\n"
          ]
        },
        {
          "name": "stderr",
          "output_type": "stream",
          "text": [
            "                                                                                               "
          ]
        },
        {
          "name": "stdout",
          "output_type": "stream",
          "text": [
            "Val Acc 19.7917%\t Val Loss 1.6258\n"
          ]
        },
        {
          "name": "stderr",
          "output_type": "stream",
          "text": [
            "\r"
          ]
        }
      ],
      "source": [
        "\n",
        "for epoch in range(0,10):\n",
        "\n",
        "    train_acc, train_loss = train(model2, train_loader_camera,train_loader_sonar,optimizer, criterion,mode=\"both\")\n",
        "    \n",
        "    print(\"\\nEpoch {}/{}: \\nTrain Acc {:.04f}%\\t Train Loss {:.04f}\\t\".format(\n",
        "        epoch + 1,\n",
        "        20,\n",
        "        train_acc,\n",
        "        train_loss))\n",
        "    \n",
        "    val_acc, val_loss = validate(model2, val_loader_camera,val_loader_sonar, criterion,mode=\"both\")\n",
        "    print(\"Val Acc {:.04f}%\\t Val Loss {:.04f}\".format(val_acc, val_loss))\n",
        "\n"
      ]
    },
    {
      "cell_type": "markdown",
      "metadata": {
        "id": "ryjCa2lFs3OJ"
      },
      "source": [
        "### AutoFusion"
      ]
    },
    {
      "cell_type": "code",
      "execution_count": null,
      "metadata": {
        "id": "JCkgE0x5TkI4"
      },
      "outputs": [],
      "source": [
        "class AutoFusion(nn.Module):\n",
        "\n",
        "    def __init__(self, input_features, latent_features, num_classes=5):\n",
        "\n",
        "        super().__init__()\n",
        "\n",
        "        inp1 = input_features // 2\n",
        "\n",
        "        # fuse in\n",
        "        self.linear1 = nn.Linear(input_features, inp1)\n",
        "        self.linear2 = nn.Linear(inp1, latent_features)\n",
        "\n",
        "        # classification layer\n",
        "        self.classification = nn.Linear(latent_features, num_classes)\n",
        "\n",
        "        # fues_out\n",
        "        self.linear3 = nn.Linear(latent_features, inp1)\n",
        "        self.linear4 = nn.Linear(inp1, input_features)\n",
        "\n",
        "        # weight tying\n",
        "        self.linear3.weight = nn.Parameter(self.linear2.weight.T)\n",
        "        self.linear4.weight = nn.Parameter(self.linear1.weight.T)\n",
        "\n",
        "        self.tanh = nn.Tanh()\n",
        "        self.relu = nn.ReLU()\n",
        "\n",
        "    def forward(self, concat_embd):\n",
        "\n",
        "        # fuse in\n",
        "        fused = self.tanh(self.linear1(concat_embd.to(device)))\n",
        "        fused = self.relu(self.linear2(fused.to(device)))\n",
        "\n",
        "        # classificatin probablities\n",
        "        class_probs = self.classification(fused)\n",
        "\n",
        "        # fuse_out\n",
        "        reconst = self.tanh(self.linear3(fused.to(device)))\n",
        "        reconst = self.linear4(reconst.to(device))\n",
        "\n",
        "        return fused, reconst, class_probs"
      ]
    },
    {
      "cell_type": "code",
      "execution_count": null,
      "metadata": {
        "id": "XuDbwNss1iNu"
      },
      "outputs": [],
      "source": [
        "def train(camera_dataloader, camera_model, sonar_dataloader, sonar_model, autofusion_model, criterion_mse, criterion_ce, optimizer):\n",
        "  \n",
        "    camera_model.eval()\n",
        "    sonar_model.eval()\n",
        "    autofusion_model.train()\n",
        "\n",
        "    total_loss = 0.0\n",
        "    num_correct=0\n",
        "    for i, data in tqdm(enumerate(zip(camera_dataloader, sonar_dataloader))):\n",
        "\n",
        "        # Move images to device\n",
        "        camera_img = data[0][0].to(device)\n",
        "        camera_label = data[0][1].to(device)\n",
        "        sonar_img = data[1][0].to(device)\n",
        "        sonar_label = data[1][1].to(device)\n",
        "\n",
        "        # Get model outputs\n",
        "        camera_embd = camera_model(camera_img)\n",
        "        sonar_embd = sonar_model(sonar_img)\n",
        "\n",
        "        #print(camera_embd)\n",
        "        #print(sonar_embd)\n",
        "        \n",
        "        concat_embd = torch.concat((camera_embd, sonar_embd), dim=1)\n",
        "        \n",
        "        _, reconst_embd, class_probs = autofusion_model(concat_embd)\n",
        "\n",
        "        class_loss = criterion_ce(class_probs, camera_label)\n",
        "        reconstruction_loss_mse = criterion_mse(concat_embd, reconst_embd)\n",
        " \n",
        "        num_correct += int((torch.argmax(class_probs, axis=1) == camera_label).sum())\n",
        "        total_loss += float(reconstruction_loss_mse.item()+class_loss.item())\n",
        "\n",
        "        optimizer.zero_grad()\n",
        "        (reconstruction_loss_mse+class_loss).backward()\n",
        "        optimizer.step()\n",
        "\n",
        "    \n",
        "    acc = 100 * num_correct / (8* len(camera_dataloader))\n",
        "    total_loss = float(total_loss / len(sonar_dataloader))\n",
        "\n",
        "    return total_loss,reconst_embd, acc"
      ]
    },
    {
      "cell_type": "code",
      "execution_count": null,
      "metadata": {
        "id": "8-t-YKpKEfKz"
      },
      "outputs": [],
      "source": [
        "def validate(camera_dataloader, camera_model, sonar_dataloader, sonar_model, autofusion_model, criterion_mse, criterion_ce, optimizer):\n",
        "  \n",
        "    autofusion_model.eval()\n",
        "    camera_model.eval()\n",
        "    sonar_model.eval()\n",
        "    #batch_bar = tqdm(total=len(camera_dataloader), dynamic_ncols=True, position=0, leave=False, desc='Val', ncols=5)\n",
        "\n",
        "    num_correct = 0.0\n",
        "    total_loss = 0.0\n",
        "\n",
        "\n",
        "    for i, data in tqdm(enumerate(zip(camera_dataloader, sonar_dataloader))):\n",
        "\n",
        "        # Move images to device\n",
        "        camera_img = data[0][0].to(device)\n",
        "        camera_label = data[0][1].to(device)\n",
        "        sonar_img = data[1][0].to(device)\n",
        "        sonar_label = data[1][1].to(device)\n",
        "\n",
        "        # Get model outputs\n",
        "        with torch.inference_mode():\n",
        "          camera_embd = camera_model(camera_img)\n",
        "          sonar_embd = sonar_model(sonar_img)\n",
        "\n",
        "        #print(camera_embd)\n",
        "        #print(sonar_embd)\n",
        "        \n",
        "        concat_embd = torch.concat((camera_embd, sonar_embd), dim=1)\n",
        "        \n",
        "        with torch.inference_mode():\n",
        "          _, reconst_embd, class_probs = autofusion_model(concat_embd)\n",
        "\n",
        "        class_loss = criterion_ce(class_probs, camera_label)\n",
        "        reconstruction_loss_mse = criterion_mse(concat_embd, reconst_embd)\n",
        " \n",
        "        num_correct += int((torch.argmax(class_probs, axis=1) == camera_label).sum())\n",
        "        total_loss += float(reconstruction_loss_mse.item()+class_loss.item())\n",
        "\n",
        "        #optimizer.zero_grad()\n",
        "        #(reconstruction_loss_mse+class_loss).backward()\n",
        "        #optimizer.step()\n",
        "        \n",
        "    #batch_bar.close()\n",
        "    acc = 100 * num_correct / (8* len(camera_dataloader))\n",
        "    total_loss = float(total_loss / len(sonar_dataloader))\n",
        "    return acc, total_loss"
      ]
    },
    {
      "cell_type": "code",
      "execution_count": null,
      "metadata": {
        "id": "lb-m4qIO7VCY"
      },
      "outputs": [],
      "source": [
        "\n",
        "camera_model_fuse = torch.nn.Sequential(*(list(camera_model.children())[:-1]))\n",
        "\n",
        "sonar_model_fuse = torch.nn.Sequential(*(list(sonar_model.children())[:-1]))\n",
        "autofusion_model = AutoFusion(1024, 256).to(device)\n",
        "\n",
        "optimizer = torch.optim.AdamW(autofusion_model.parameters(), lr=1e-4, weight_decay=1e-2)\n",
        "\n",
        "criterion_mse = torch.nn.MSELoss()\n",
        "criterion_ce = torch.nn.CrossEntropyLoss()"
      ]
    },
    {
      "cell_type": "code",
      "execution_count": null,
      "metadata": {
        "colab": {
          "base_uri": "https://localhost:8080/"
        },
        "id": "Ov77pbeDlKDE",
        "outputId": "31378276-727a-4f93-d136-dd0c38a75099"
      },
      "outputs": [
        {
          "name": "stderr",
          "output_type": "stream",
          "text": [
            "137it [00:51,  2.65it/s]\n",
            "35it [00:12,  2.73it/s]"
          ]
        },
        {
          "name": "stdout",
          "output_type": "stream",
          "text": [
            "Epoch:  0\n",
            "Training Loss is  132.89897157932992\n",
            "Training Acc is  96.35036496350365\n",
            "Validation Loss is  88.78703165075609\n",
            "Validation Acc is  92.14285714285714\n",
            "----------\n"
          ]
        },
        {
          "name": "stderr",
          "output_type": "stream",
          "text": [
            "\n",
            "137it [00:51,  2.66it/s]\n",
            "35it [00:12,  2.78it/s]\n"
          ]
        },
        {
          "name": "stdout",
          "output_type": "stream",
          "text": [
            "Epoch:  1\n",
            "Training Loss is  110.9551276710882\n",
            "Training Acc is  99.72627737226277\n",
            "Validation Loss is  78.03100041846878\n",
            "Validation Acc is  92.5\n",
            "----------\n"
          ]
        },
        {
          "name": "stderr",
          "output_type": "stream",
          "text": [
            "137it [00:52,  2.59it/s]\n",
            "35it [00:12,  2.72it/s]"
          ]
        },
        {
          "name": "stdout",
          "output_type": "stream",
          "text": [
            "Epoch:  2\n",
            "Training Loss is  99.82059593051103\n",
            "Training Acc is  99.45255474452554\n",
            "Validation Loss is  71.06478069730635\n",
            "Validation Acc is  92.85714285714286\n",
            "----------\n"
          ]
        },
        {
          "name": "stderr",
          "output_type": "stream",
          "text": [
            "\n",
            "137it [00:54,  2.51it/s]\n",
            "35it [00:12,  2.74it/s]"
          ]
        },
        {
          "name": "stdout",
          "output_type": "stream",
          "text": [
            "Epoch:  3\n",
            "Training Loss is  91.40472302271965\n",
            "Training Acc is  99.54379562043796\n",
            "Validation Loss is  65.35404237631758\n",
            "Validation Acc is  92.5\n",
            "----------\n"
          ]
        },
        {
          "name": "stderr",
          "output_type": "stream",
          "text": [
            "\n",
            "137it [00:51,  2.68it/s]\n",
            "35it [00:12,  2.73it/s]"
          ]
        },
        {
          "name": "stdout",
          "output_type": "stream",
          "text": [
            "Epoch:  4\n",
            "Training Loss is  85.59045359195125\n",
            "Training Acc is  99.72627737226277\n",
            "Validation Loss is  61.79855397710344\n",
            "Validation Acc is  93.57142857142857\n",
            "----------\n"
          ]
        },
        {
          "name": "stderr",
          "output_type": "stream",
          "text": [
            "\n",
            "137it [00:52,  2.59it/s]\n",
            "35it [00:12,  2.75it/s]"
          ]
        },
        {
          "name": "stdout",
          "output_type": "stream",
          "text": [
            "Epoch:  5\n",
            "Training Loss is  80.6103588880191\n",
            "Training Acc is  99.9087591240876\n",
            "Validation Loss is  58.097249292128254\n",
            "Validation Acc is  92.85714285714286\n",
            "----------\n"
          ]
        },
        {
          "name": "stderr",
          "output_type": "stream",
          "text": [
            "\n",
            "137it [00:51,  2.67it/s]\n",
            "35it [00:12,  2.73it/s]"
          ]
        },
        {
          "name": "stdout",
          "output_type": "stream",
          "text": [
            "Epoch:  6\n",
            "Training Loss is  76.40519467831601\n",
            "Training Acc is  100.0\n",
            "Validation Loss is  54.85928803611397\n",
            "Validation Acc is  93.57142857142857\n",
            "----------\n"
          ]
        },
        {
          "name": "stderr",
          "output_type": "stream",
          "text": [
            "\n",
            "137it [00:52,  2.60it/s]\n",
            "35it [00:12,  2.74it/s]"
          ]
        },
        {
          "name": "stdout",
          "output_type": "stream",
          "text": [
            "Epoch:  7\n",
            "Training Loss is  72.77013422660087\n",
            "Training Acc is  100.0\n",
            "Validation Loss is  52.736879945048294\n",
            "Validation Acc is  93.21428571428571\n",
            "----------\n"
          ]
        },
        {
          "name": "stderr",
          "output_type": "stream",
          "text": [
            "\n",
            "137it [00:57,  2.40it/s]\n",
            "35it [00:12,  2.77it/s]"
          ]
        },
        {
          "name": "stdout",
          "output_type": "stream",
          "text": [
            "Epoch:  8\n",
            "Training Loss is  69.74059862860719\n",
            "Training Acc is  100.0\n",
            "Validation Loss is  50.113120922291586\n",
            "Validation Acc is  93.57142857142857\n",
            "----------\n"
          ]
        },
        {
          "name": "stderr",
          "output_type": "stream",
          "text": [
            "\n",
            "137it [00:51,  2.66it/s]\n",
            "35it [00:12,  2.72it/s]"
          ]
        },
        {
          "name": "stdout",
          "output_type": "stream",
          "text": [
            "Epoch:  9\n",
            "Training Loss is  66.98509588282197\n",
            "Training Acc is  100.0\n",
            "Validation Loss is  48.25469567066258\n",
            "Validation Acc is  94.28571428571429\n",
            "----------\n"
          ]
        },
        {
          "name": "stderr",
          "output_type": "stream",
          "text": [
            "\n",
            "137it [00:51,  2.68it/s]\n",
            "35it [00:12,  2.72it/s]"
          ]
        },
        {
          "name": "stdout",
          "output_type": "stream",
          "text": [
            "Epoch:  10\n",
            "Training Loss is  64.70371950441294\n",
            "Training Acc is  99.9087591240876\n",
            "Validation Loss is  46.30615244777291\n",
            "Validation Acc is  95.0\n",
            "----------\n"
          ]
        },
        {
          "name": "stderr",
          "output_type": "stream",
          "text": [
            "\n",
            "137it [00:51,  2.64it/s]\n",
            "35it [00:14,  2.40it/s]"
          ]
        },
        {
          "name": "stdout",
          "output_type": "stream",
          "text": [
            "Epoch:  11\n",
            "Training Loss is  62.474919335899536\n",
            "Training Acc is  100.0\n",
            "Validation Loss is  45.1084616320532\n",
            "Validation Acc is  94.28571428571429\n",
            "----------\n"
          ]
        },
        {
          "name": "stderr",
          "output_type": "stream",
          "text": [
            "\n",
            "137it [00:53,  2.58it/s]\n",
            "35it [00:13,  2.55it/s]"
          ]
        },
        {
          "name": "stdout",
          "output_type": "stream",
          "text": [
            "Epoch:  12\n",
            "Training Loss is  60.6544913119779\n",
            "Training Acc is  99.9087591240876\n",
            "Validation Loss is  43.66487143331407\n",
            "Validation Acc is  93.92857142857143\n",
            "----------\n"
          ]
        },
        {
          "name": "stderr",
          "output_type": "stream",
          "text": [
            "\n",
            "137it [00:51,  2.68it/s]\n",
            "35it [00:12,  2.76it/s]"
          ]
        },
        {
          "name": "stdout",
          "output_type": "stream",
          "text": [
            "Epoch:  13\n",
            "Training Loss is  58.9131110602911\n",
            "Training Acc is  99.9087591240876\n",
            "Validation Loss is  42.59915298234056\n",
            "Validation Acc is  94.28571428571429\n",
            "----------\n"
          ]
        },
        {
          "name": "stderr",
          "output_type": "stream",
          "text": [
            "\n",
            "137it [00:51,  2.67it/s]\n",
            "35it [00:14,  2.42it/s]"
          ]
        },
        {
          "name": "stdout",
          "output_type": "stream",
          "text": [
            "Epoch:  14\n",
            "Training Loss is  57.48464788674113\n",
            "Training Acc is  99.81751824817518\n",
            "Validation Loss is  41.992971949628554\n",
            "Validation Acc is  93.92857142857143\n",
            "----------\n"
          ]
        },
        {
          "name": "stderr",
          "output_type": "stream",
          "text": [
            "\n",
            "137it [00:51,  2.67it/s]\n",
            "35it [00:12,  2.75it/s]"
          ]
        },
        {
          "name": "stdout",
          "output_type": "stream",
          "text": [
            "Epoch:  15\n",
            "Training Loss is  56.16680819505521\n",
            "Training Acc is  99.9087591240876\n",
            "Validation Loss is  40.62172283677833\n",
            "Validation Acc is  93.21428571428571\n",
            "----------\n"
          ]
        },
        {
          "name": "stderr",
          "output_type": "stream",
          "text": [
            "\n",
            "137it [00:50,  2.69it/s]\n",
            "35it [00:12,  2.70it/s]"
          ]
        },
        {
          "name": "stdout",
          "output_type": "stream",
          "text": [
            "Epoch:  16\n",
            "Training Loss is  54.67834171887754\n",
            "Training Acc is  99.9087591240876\n",
            "Validation Loss is  39.83458507386469\n",
            "Validation Acc is  93.21428571428571\n",
            "----------\n"
          ]
        },
        {
          "name": "stderr",
          "output_type": "stream",
          "text": [
            "\n",
            "137it [00:56,  2.42it/s]\n",
            "35it [00:12,  2.77it/s]"
          ]
        },
        {
          "name": "stdout",
          "output_type": "stream",
          "text": [
            "Epoch:  17\n",
            "Training Loss is  53.432763575858736\n",
            "Training Acc is  100.0\n",
            "Validation Loss is  39.45709783402531\n",
            "Validation Acc is  93.57142857142857\n",
            "----------\n"
          ]
        },
        {
          "name": "stderr",
          "output_type": "stream",
          "text": [
            "\n",
            "137it [00:51,  2.68it/s]\n",
            "35it [00:12,  2.75it/s]"
          ]
        },
        {
          "name": "stdout",
          "output_type": "stream",
          "text": [
            "Epoch:  18\n",
            "Training Loss is  52.223706464200475\n",
            "Training Acc is  99.9087591240876\n",
            "Validation Loss is  38.32111925116021\n",
            "Validation Acc is  94.64285714285714\n",
            "----------\n"
          ]
        },
        {
          "name": "stderr",
          "output_type": "stream",
          "text": [
            "\n",
            "137it [00:51,  2.69it/s]\n",
            "35it [00:12,  2.74it/s]"
          ]
        },
        {
          "name": "stdout",
          "output_type": "stream",
          "text": [
            "Epoch:  19\n",
            "Training Loss is  51.186664723081165\n",
            "Training Acc is  100.0\n",
            "Validation Loss is  37.94582064516975\n",
            "Validation Acc is  94.64285714285714\n",
            "----------\n"
          ]
        },
        {
          "name": "stderr",
          "output_type": "stream",
          "text": [
            "\n",
            "137it [00:51,  2.66it/s]\n",
            "35it [00:12,  2.71it/s]"
          ]
        },
        {
          "name": "stdout",
          "output_type": "stream",
          "text": [
            "Epoch:  20\n",
            "Training Loss is  50.25189602880784\n",
            "Training Acc is  99.9087591240876\n",
            "Validation Loss is  37.48296603058947\n",
            "Validation Acc is  94.28571428571429\n",
            "----------\n"
          ]
        },
        {
          "name": "stderr",
          "output_type": "stream",
          "text": [
            "\n",
            "137it [00:56,  2.42it/s]\n",
            "35it [00:12,  2.72it/s]"
          ]
        },
        {
          "name": "stdout",
          "output_type": "stream",
          "text": [
            "Epoch:  21\n",
            "Training Loss is  49.40983863831191\n",
            "Training Acc is  100.0\n",
            "Validation Loss is  36.96604888863845\n",
            "Validation Acc is  94.28571428571429\n",
            "----------\n"
          ]
        },
        {
          "name": "stderr",
          "output_type": "stream",
          "text": [
            "\n",
            "137it [00:52,  2.63it/s]\n",
            "35it [00:12,  2.70it/s]"
          ]
        },
        {
          "name": "stdout",
          "output_type": "stream",
          "text": [
            "Epoch:  22\n",
            "Training Loss is  48.38497408301393\n",
            "Training Acc is  100.0\n",
            "Validation Loss is  36.30104715583293\n",
            "Validation Acc is  95.0\n",
            "----------\n"
          ]
        },
        {
          "name": "stderr",
          "output_type": "stream",
          "text": [
            "\n",
            "137it [00:52,  2.62it/s]\n",
            "35it [00:12,  2.73it/s]"
          ]
        },
        {
          "name": "stdout",
          "output_type": "stream",
          "text": [
            "Epoch:  23\n",
            "Training Loss is  47.5673227265487\n",
            "Training Acc is  99.9087591240876\n",
            "Validation Loss is  35.55083395220614\n",
            "Validation Acc is  94.64285714285714\n",
            "----------\n"
          ]
        },
        {
          "name": "stderr",
          "output_type": "stream",
          "text": [
            "\n",
            "137it [00:53,  2.56it/s]\n",
            "35it [00:12,  2.73it/s]"
          ]
        },
        {
          "name": "stdout",
          "output_type": "stream",
          "text": [
            "Epoch:  24\n",
            "Training Loss is  46.60828149328767\n",
            "Training Acc is  100.0\n",
            "Validation Loss is  35.44142779846859\n",
            "Validation Acc is  95.71428571428571\n",
            "----------\n"
          ]
        },
        {
          "name": "stderr",
          "output_type": "stream",
          "text": [
            "\n",
            "137it [00:51,  2.64it/s]\n",
            "35it [00:16,  2.13it/s]"
          ]
        },
        {
          "name": "stdout",
          "output_type": "stream",
          "text": [
            "Epoch:  25\n",
            "Training Loss is  45.818114435091\n",
            "Training Acc is  100.0\n",
            "Validation Loss is  34.60884280795103\n",
            "Validation Acc is  94.64285714285714\n",
            "----------\n"
          ]
        },
        {
          "name": "stderr",
          "output_type": "stream",
          "text": [
            "\n",
            "137it [00:51,  2.66it/s]\n",
            "35it [00:12,  2.70it/s]"
          ]
        },
        {
          "name": "stdout",
          "output_type": "stream",
          "text": [
            "Epoch:  26\n",
            "Training Loss is  45.05344154154741\n",
            "Training Acc is  100.0\n",
            "Validation Loss is  34.36263749239557\n",
            "Validation Acc is  93.92857142857143\n",
            "----------\n"
          ]
        },
        {
          "name": "stderr",
          "output_type": "stream",
          "text": [
            "\n",
            "137it [00:53,  2.57it/s]\n",
            "35it [00:12,  2.74it/s]"
          ]
        },
        {
          "name": "stdout",
          "output_type": "stream",
          "text": [
            "Epoch:  27\n",
            "Training Loss is  44.35412993343349\n",
            "Training Acc is  100.0\n",
            "Validation Loss is  34.00653452356647\n",
            "Validation Acc is  95.0\n",
            "----------\n"
          ]
        },
        {
          "name": "stderr",
          "output_type": "stream",
          "text": [
            "\n",
            "137it [00:51,  2.67it/s]\n",
            "35it [00:12,  2.72it/s]"
          ]
        },
        {
          "name": "stdout",
          "output_type": "stream",
          "text": [
            "Epoch:  28\n",
            "Training Loss is  43.64853194778395\n",
            "Training Acc is  99.81751824817518\n",
            "Validation Loss is  33.58917569665812\n",
            "Validation Acc is  95.0\n",
            "----------\n"
          ]
        },
        {
          "name": "stderr",
          "output_type": "stream",
          "text": [
            "\n",
            "137it [00:51,  2.63it/s]\n",
            "35it [00:16,  2.12it/s]"
          ]
        },
        {
          "name": "stdout",
          "output_type": "stream",
          "text": [
            "Epoch:  29\n",
            "Training Loss is  43.07613009060191\n",
            "Training Acc is  100.0\n",
            "Validation Loss is  33.204454962496776\n",
            "Validation Acc is  95.35714285714286\n",
            "----------\n"
          ]
        },
        {
          "name": "stderr",
          "output_type": "stream",
          "text": [
            "\n"
          ]
        }
      ],
      "source": [
        "for epoch in range(30):\n",
        "\n",
        "    train_loss,reconst_emb,train_acc = train(train_loader_camera, camera_model_fuse, train_loader_sonar, sonar_model_fuse, autofusion_model, criterion_mse, criterion_ce, optimizer)\n",
        "    val_acc,val_loss=validate(val_loader_camera,camera_model_fuse,val_loader_sonar,sonar_model_fuse,autofusion_model,criterion_mse, criterion_ce, optimizer)\n",
        "    print(\"Epoch: \",epoch)\n",
        "    print(\"Training Loss is \",train_loss)\n",
        "    print(\"Training Acc is \",train_acc)\n",
        "    print(\"Validation Loss is \",val_loss)\n",
        "    print(\"Validation Acc is \",val_acc)\n",
        "\n",
        "    print(\"-\"*10)"
      ]
    },
    {
      "cell_type": "code",
      "execution_count": null,
      "metadata": {
        "id": "rJ5vUB2TtW32"
      },
      "outputs": [],
      "source": [
        "torch.save(autofusion_model.state_dict(), \"/content/drive/MyDrive/IDL Project/auto_fusion_model.pt\")"
      ]
    },
    {
      "attachments": {},
      "cell_type": "markdown",
      "metadata": {
        "id": "vah64_2StRBd"
      },
      "source": [
        "# GAN Fusion"
      ]
    },
    {
      "cell_type": "code",
      "execution_count": null,
      "metadata": {
        "id": "tHPpwhra3q7N"
      },
      "outputs": [],
      "source": [
        "config = {\n",
        "    'latent_dim': 512,\n",
        "    'hidden_dim': 256,\n",
        "    'lr': 1e-3\n",
        "}"
      ]
    },
    {
      "cell_type": "code",
      "execution_count": null,
      "metadata": {
        "id": "Of5cDgnw3s3o"
      },
      "outputs": [],
      "source": [
        "class GanDiscriminator(nn.Module):\n",
        "    def __init__(self, input_dim, hidden_dim):\n",
        "        \"\"\"\n",
        "        input_dim: dimension of the input latent codes\n",
        "        hidden_dim: classifier's hidden dimension\n",
        "        \"\"\"\n",
        "        super(GanDiscriminator, self).__init__()\n",
        "        self._classifier = nn.Sequential(\n",
        "            nn.Linear(input_dim, hidden_dim),  nn.BatchNorm1d(hidden_dim),  nn.LeakyReLU(0.2),\n",
        "            nn.Linear(hidden_dim, hidden_dim),  nn.BatchNorm1d(hidden_dim),  nn.LeakyReLU(0.2),\n",
        "            nn.Linear(hidden_dim, 1)  \n",
        "        )\n",
        "        self._loss =  nn.BCEWithLogitsLoss()\n",
        "        self._optimizer = torch.optim.Adam(self.parameters(), config['lr'])\n",
        "\n",
        "\n",
        "    def optimize(self, clip):\n",
        "        nn.utils.clip_grad_norm_(self.parameters(), clip)\n",
        "        self._optimizer.step()\n",
        "\n",
        "\n",
        "    def forward(self, input_latent, labels=None):\n",
        "        output = self._classifier(input_latent)\n",
        "        output_dict = {'output': output}\n",
        "        if labels is not None:\n",
        "            output_dict['loss'] = self._loss(output, labels)\n",
        "            output_dict['accuracy'] = (torch.sigmoid(output).round() == labels).float().mean()\n",
        "        return output_dict\n",
        "\n",
        "\n",
        "class GanGenerator( nn.Module):\n",
        "    def __init__(self, latent_dim, temperature=0.01):\n",
        "        super(GanGenerator, self).__init__()\n",
        "        self._latent_mapper =  nn.Sequential(\n",
        "             nn.Linear(latent_dim, 2*latent_dim),  nn.BatchNorm1d(2*latent_dim),  nn.LeakyReLU(0.2),\n",
        "             nn.Linear(2*latent_dim, 2*latent_dim),  nn.BatchNorm1d(2*latent_dim),  nn.LeakyReLU(0.2),\n",
        "             nn.Linear(2*latent_dim, latent_dim)\n",
        "        )\n",
        "\n",
        "        self._temperature = temperature\n",
        "        self._ce_loss =  nn.BCEWithLogitsLoss()\n",
        "        self._optimizer =  torch.optim.Adam(self.parameters(), config['lr'])\n",
        "\n",
        "    def add_noise(self, latent):\n",
        "        \"\"\"\n",
        "        Adds standard normal noise to a latent vector\n",
        "        \"\"\"\n",
        "        return self._temperature*torch.randn(latent.shape).to(device) + latent\n",
        "\n",
        "    def optimize(self, clip):\n",
        "        nn.utils.clip_grad_norm_(self.parameters(), clip)\n",
        "        self._optimizer.step()\n",
        "\n",
        "    def forward(self, target_latent, discriminator):\n",
        "        # add noise to input data\n",
        "        target_latent = self.add_noise(target_latent)\n",
        "        z_g = self._latent_mapper(target_latent)\n",
        "        output_dict = {}\n",
        "        # continue discriminator part\n",
        "        \n",
        "        if discriminator is not None:\n",
        "            predicted = discriminator(z_g)['output']\n",
        "            # the generator wants the disc to think these as true\n",
        "            desired = torch.ones_like(predicted[:,0].reshape(-1,1))\n",
        "            # print(predicted.shape, desired.shape)\n",
        "            output_dict['loss'] = self._ce_loss(predicted, desired)\n",
        "            output_dict['accuracy'] = (torch.sigmoid(predicted).round() == desired).float().mean()\n",
        "\n",
        "        output_dict.update({\n",
        "            'z_g': z_g\n",
        "            })\n",
        "        return output_dict"
      ]
    },
    {
      "cell_type": "code",
      "execution_count": null,
      "metadata": {
        "id": "yP9mG1pQ3ueq"
      },
      "outputs": [],
      "source": [
        "class GanFusionSingle(nn.Module):\n",
        "    \"\"\"docstring for GanFusionSingle: fusion module for one target modality\"\"\"\n",
        "    def __init__(self,\n",
        "                 config,\n",
        "                 generator,\n",
        "                 discriminator):\n",
        "        \"\"\"\n",
        "        target_latent: target modality's latent code\n",
        "        compl_latent: complementary modalities' latent codes (concatenated)\n",
        "        \"\"\"\n",
        "        super(GanFusionSingle, self).__init__()\n",
        "        self.config = config\n",
        "        self.generator = generator\n",
        "        self.discriminator = discriminator\n",
        "        self.gen_metrics = None\n",
        "        self.disc_metrics = None\n",
        "\n",
        "    def forward(self, z_dict, mode, stage=None):\n",
        "        # refer to the paper for conventions\n",
        "        if mode != 'train':\n",
        "            stage = 'gen'\n",
        "\n",
        "        if stage == 'disc_real':\n",
        "            z_tr = z_dict['compl']\n",
        "            labels = torch.ones_like(z_tr[:,0].reshape(-1,1))\n",
        "            output = self.discriminator(z_tr, labels)\n",
        "            # add autofusion's loss as well\n",
        "\n",
        "            output['z_g'] = self.generator(z_dict['target'], self.discriminator)['z_g']\n",
        "            self.disc_metrics = {\n",
        "                'drl': output['loss'],\n",
        "                'dracc': output['accuracy']\n",
        "            }\n",
        "        elif stage == 'disc_fake':\n",
        "            # get the generated latent z_g\n",
        "            z_g = self.generator(z_dict['target'], self.discriminator)['z_g']\n",
        "            labels = torch.zeros_like(z_g[:,0].reshape(-1,1))\n",
        "            output = self.discriminator(z_g, labels)\n",
        "            output['z_g'] = z_g\n",
        "            self.disc_metrics = {\n",
        "                'dfl': output['loss'],\n",
        "                'dfacc': output['accuracy']\n",
        "            }\n",
        "        elif stage == 'gen':\n",
        "            output = self.generator(z_dict['target'], self.discriminator)\n",
        "            self.gen_metrics = {\n",
        "                'gl': output['loss'],\n",
        "                'gacc': output['accuracy']\n",
        "            }\n",
        "        else:\n",
        "            raise ValueError(f'invalid stage: {stage}')\n",
        "        return output\n",
        "\n",
        "\n",
        "class GanFusion(nn.Module):\n",
        "    \"\"\"docstring for GanFusion: contains GAN-Fusion module for all the\n",
        "    modalities\"\"\"\n",
        "    def __init__(self, config):\n",
        "        super(GanFusion, self).__init__()\n",
        "        self.sonar_gan = GanFusionSingle(config,\n",
        "                                        GanGenerator(config['latent_dim']),\n",
        "                                        GanDiscriminator(config['latent_dim'],\n",
        "                                                        config['hidden_dim']))\n",
        "        self.camera_gan = GanFusionSingle(config,\n",
        "                                          GanGenerator(config['latent_dim']),\n",
        "                                          GanDiscriminator(config['latent_dim'],\n",
        "                                                        config['hidden_dim']))\n",
        "\n",
        "        self.ff_input_features = config['latent_dim']*2\n",
        "        self.feed_forward = nn.Sequential(\n",
        "            nn.Linear(self.ff_input_features, self.ff_input_features//2),\n",
        "            nn.Tanh(),\n",
        "            nn.Linear(self.ff_input_features//2, config['latent_dim']),\n",
        "            nn.ReLU()\n",
        "            )\n",
        "\n",
        "    def z_fuse(self, fusion_dict):\n",
        "        z_fuse_t = fusion_dict['sonar_dict']['z_g']\n",
        "        z_fuse_s = fusion_dict['camera_dict']['z_g']\n",
        "        return self.feed_forward(torch.cat((z_fuse_t,\n",
        "                                            z_fuse_s), dim=-1))\n",
        "\n",
        "    def get_loss(self, fusion_dict):\n",
        "        return fusion_dict['sonar_dict']['loss'] + \\\n",
        "               fusion_dict['camera_dict']['loss']\n",
        "\n",
        "    def forward(self, latent_dict, mode, stage=None):\n",
        "        z_t = latent_dict['z_sonar']\n",
        "        z_s = latent_dict['z_camera']\n",
        "\n",
        "        fusion_dict = {\n",
        "            'sonar_dict': self.sonar_gan({'target': z_t, 'compl': z_s}, mode, stage),\n",
        "            'camera_dict': self.camera_gan({'target': z_s, 'compl': z_t}, mode, stage)}\n",
        "\n",
        "        return {\n",
        "            'z': self.z_fuse(fusion_dict),\n",
        "            'loss': self.get_loss(fusion_dict)\n",
        "        }"
      ]
    },
    {
      "cell_type": "code",
      "execution_count": null,
      "metadata": {
        "id": "r35yoSOc3wyo"
      },
      "outputs": [],
      "source": [
        "class FinalModel(nn.Module):\n",
        "    \"\"\"docstring for GanFusionSingle: fusion module for one target modality\"\"\"\n",
        "    def __init__(self, config, camera_model, sonar_model, num_classes):\n",
        "        super(FinalModel, self).__init__()\n",
        "        self.camera_model = camera_model\n",
        "        self.camera_model.eval()\n",
        "        self.sonar_model = sonar_model\n",
        "        self.sonar_model.eval()\n",
        "        self.gan_fusion = GanFusion(config)\n",
        "        self.class_layer = nn.Linear(config['latent_dim'], num_classes)\n",
        "\n",
        "    def forward(self,input_sonar, input_camera, mode, stage):\n",
        "        sonar_embedding = self.sonar_model(input_sonar)\n",
        "        camera_embedding = self.camera_model(input_camera)\n",
        "        latent_dict = {\n",
        "            'z_sonar': sonar_embedding,\n",
        "            'z_camera': camera_embedding\n",
        "        }\n",
        "\n",
        "        gan_fusion_output = self.gan_fusion(latent_dict, mode, stage)\n",
        "        class_output = self.class_layer(gan_fusion_output['z'])\n",
        "        return gan_fusion_output, class_output"
      ]
    },
    {
      "cell_type": "code",
      "execution_count": null,
      "metadata": {
        "id": "lt8DAUva3yzt"
      },
      "outputs": [],
      "source": [
        "final_model = FinalModel(config, camera_model_fuse, sonar_model_fuse, 5).to(device)"
      ]
    },
    {
      "cell_type": "code",
      "execution_count": null,
      "metadata": {
        "id": "2rBQUlW030SE"
      },
      "outputs": [],
      "source": [
        "optimizer_gan =  torch.optim.Adam(final_model.parameters(), 1e-5)\n",
        "criterion_gan = nn.CrossEntropyLoss()"
      ]
    },
    {
      "cell_type": "code",
      "execution_count": null,
      "metadata": {
        "id": "PB7lQr4r32Bs"
      },
      "outputs": [],
      "source": [
        "def train_GAN(model, camera_dataloader,sonar_dataloader, optimizer_gan):\n",
        "    model.gan_fusion.train()\n",
        "    # Progress Bar \n",
        "    batch_bar = tqdm(total=len(camera_dataloader), dynamic_ncols=True, leave=False, position=0, desc='Train', ncols=5) \n",
        "    \n",
        "    num_correct = 0\n",
        "    total_loss = 0\n",
        "    dataloader=zip(camera_dataloader,sonar_dataloader)\n",
        "    losses = {'disc_real':0, 'disc_fake':0, 'gen':0}\n",
        "\n",
        "    for i, data in enumerate(dataloader):\n",
        "        \n",
        "        image_camera=data[0][0]\n",
        "        labels=data[0][1] #Same labels for both \n",
        "        image_sonar=data[1][0]\n",
        "        # images=torch.concat([image_camera,image_sonar],dim=1)\n",
        "        \n",
        "        \n",
        "\n",
        "        image_camera, image_sonar, labels = image_camera.to(device), image_sonar.to(device), labels.to(device)\n",
        "        \n",
        "        # for stage in ['disc_fake']:\n",
        "\n",
        "        \n",
        "        for stage in ['disc_real', 'disc_fake', 'gen']:\n",
        "            optimizer_gan.zero_grad() # Zero gradients\n",
        "            output_dict, class_output = model(image_sonar, image_camera, 'train', stage)\n",
        "            loss_class = criterion_gan(class_output, labels)\n",
        "            if(stage!='gen'):\n",
        "                loss = output_dict['loss']\n",
        "            else:\n",
        "                loss= output_dict['loss'] + loss_class\n",
        "            loss.backward()\n",
        "            optimizer_gan.step()\n",
        "            losses[stage] += output_dict['loss'].item()\n",
        "\n",
        "            # num_correct += int((torch.argmax(outputs, axis=1) == labels).sum())\n",
        "        \n",
        "        total_loss += float(loss_class.item())\n",
        "        \n",
        "        num_correct += int((torch.argmax(class_output, axis=1) == labels).sum())\n",
        "        # total_loss += float(loss.item())\n",
        "\n",
        "        batch_bar.set_postfix(\n",
        "            acc=\"{:.04f}%\".format(100 * num_correct / (8*(i + 1))),\n",
        "            loss=\"{:.04f}\".format(float(total_loss / (i + 1))),\n",
        "            lr=\"{:.04f}\".format(float(optimizer_gan.param_groups[0]['lr'])),\n",
        "            disc_real=\"{:.04f}\".format(float(losses['disc_real'] / (i + 1))),\n",
        "            disc_fake=\"{:.04f}\".format(float(losses['disc_fake'] / (i + 1))),\n",
        "            gen=\"{:.04f}\".format(float(losses['gen'] / (i + 1))))\n",
        "\n",
        "            \n",
        "        \n",
        "        \n",
        "        batch_bar.update()\n",
        "\n",
        "    gan_training_metrics['train_accuracy'].append(100 * num_correct / (8*(i + 1)))\n",
        "    gan_training_metrics['train_class_loss'].append(float(total_loss / (i + 1)))\n",
        "    gan_training_metrics['train_disc_real'].append(float(losses['disc_real'] / (i + 1)))\n",
        "    gan_training_metrics['train_disc_fake'].append(float(losses['disc_fake'] / (i + 1)))\n",
        "    gan_training_metrics['train_gen'].append(float(losses['gen'] / (i + 1)))\n",
        "    \n",
        "    batch_bar.close()\n",
        "    print(\"Training : \")\n",
        "    print(\"Accuracy:\",\"{:.04f}%\".format(100 * num_correct / (8*(i + 1))))\n",
        "    print(\"Classification Loss\",\"{:.04f}\".format(float(total_loss / (i + 1))))\n",
        "    print(\"Discriminator Real\",\"{:.04f}\".format(float(losses['disc_real'] / (i + 1))))\n",
        "    print(\"Discriminator Fake\",\"{:.04f}\".format(float(losses['disc_fake'] / (i + 1))))\n",
        "    print(\"Generator\",\"{:.04f}\".format(float(losses['gen'] / (i + 1))))\n",
        "\n",
        "    total_loss = float(total_loss / len(camera_dataloader))\n",
        "\n",
        "    return total_loss"
      ]
    },
    {
      "cell_type": "code",
      "execution_count": null,
      "metadata": {
        "id": "vCPAWCHT5ky1"
      },
      "outputs": [],
      "source": [
        "def valid_GAN(model, camera_dataloader,sonar_dataloader):\n",
        "    model.eval()\n",
        "    # Progress Bar \n",
        "    batch_bar = tqdm(total=len(camera_dataloader), dynamic_ncols=True, leave=False, position=0, desc='Valid', ncols=5) \n",
        "    \n",
        "    num_correct = 0\n",
        "    total_loss = 0\n",
        "    dataloader=zip(camera_dataloader,sonar_dataloader)\n",
        "    losses = {'disc_real':0, 'disc_fake':0, 'gen':0}\n",
        "\n",
        "    for i, data in enumerate(dataloader):\n",
        "        \n",
        "        image_camera=data[0][0]\n",
        "        labels=data[0][1] #Same labels for both \n",
        "        image_sonar=data[1][0]\n",
        "        # images=torch.concat([image_camera,image_sonar],dim=1)\n",
        "        \n",
        "        \n",
        "\n",
        "        image_camera, image_sonar, labels = image_camera.to(device), image_sonar.to(device), labels.to(device)\n",
        "        \n",
        "        # for stage in ['disc_fake']:\n",
        "\n",
        "        with torch.no_grad():\n",
        "        \n",
        "            for stage in ['disc_real', 'disc_fake', 'gen']:\n",
        "                output_dict, class_output = model(image_sonar, image_camera, 'train', stage)\n",
        "                loss_class = criterion_gan(class_output, labels)\n",
        "                if(stage!='gen'):\n",
        "                    loss = output_dict['loss']\n",
        "                else:\n",
        "                    loss= output_dict['loss'] + loss_class\n",
        "                losses[stage] += output_dict['loss'].item()\n",
        "            \n",
        "            total_loss += float(loss_class.item())\n",
        "        \n",
        "        num_correct += int((torch.argmax(class_output, axis=1) == labels).sum())\n",
        "\n",
        "        batch_bar.set_postfix(\n",
        "            acc=\"{:.04f}%\".format(100 * num_correct / (8*(i + 1))),\n",
        "            loss=\"{:.04f}\".format(float(total_loss / (i + 1))),\n",
        "            disc_real=\"{:.04f}\".format(float(losses['disc_real'] / (i + 1))),\n",
        "            disc_fake=\"{:.04f}\".format(float(losses['disc_fake'] / (i + 1))),\n",
        "            gen=\"{:.04f}\".format(float(losses['gen'] / (i + 1))))\n",
        "            \n",
        "        \n",
        "        \n",
        "        batch_bar.update()\n",
        "    gan_training_metrics['val_accuracy'].append(100 * num_correct / (8*(i + 1)))\n",
        "    gan_training_metrics['val_class_loss'].append(float(total_loss / (i + 1)))\n",
        "    gan_training_metrics['val_disc_real'].append(float(losses['disc_real'] / (i + 1)))\n",
        "    gan_training_metrics['val_disc_fake'].append(float(losses['disc_fake'] / (i + 1)))\n",
        "    gan_training_metrics['val_gen'].append(float(losses['gen'] / (i + 1)))\n",
        "\n",
        "    batch_bar.close()\n",
        "    print(\"Validation: \")\n",
        "    print(\"Accuracy:\",\"{:.04f}%\".format(100 * num_correct / (8*(i + 1))))\n",
        "    print(\"Classification Loss\",\"{:.04f}\".format(float(total_loss / (i + 1))))\n",
        "    print(\"Discriminator Real\",\"{:.04f}\".format(float(losses['disc_real'] / (i + 1))))\n",
        "    print(\"Discriminator Fake\",\"{:.04f}\".format(float(losses['disc_fake'] / (i + 1))))\n",
        "    print(\"Generator\",\"{:.04f}\".format(float(losses['gen'] / (i + 1))))\n",
        "\n",
        "    total_loss = float(total_loss / len(camera_dataloader))\n",
        "\n",
        "    return total_loss"
      ]
    },
    {
      "cell_type": "code",
      "execution_count": null,
      "metadata": {
        "colab": {
          "base_uri": "https://localhost:8080/"
        },
        "id": "-H7Tmhpp58Pw",
        "outputId": "0fb956c2-765b-474d-d8b9-16a77456b814"
      },
      "outputs": [
        {
          "name": "stdout",
          "output_type": "stream",
          "text": [
            "Epoch 1 /30\n"
          ]
        },
        {
          "name": "stderr",
          "output_type": "stream",
          "text": []
        },
        {
          "name": "stdout",
          "output_type": "stream",
          "text": [
            "Training : \n",
            "Accuracy: 81.4781%\n",
            "Classification Loss 1.1550\n",
            "Discriminator Real 1.4558\n",
            "Discriminator Fake 1.3550\n",
            "Generator 1.4616\n"
          ]
        },
        {
          "name": "stderr",
          "output_type": "stream",
          "text": []
        },
        {
          "name": "stdout",
          "output_type": "stream",
          "text": [
            "Validation: \n",
            "Accuracy: 90.0000%\n",
            "Classification Loss 0.7392\n",
            "Discriminator Real 1.2574\n",
            "Discriminator Fake 1.3342\n",
            "Generator 1.4407\n",
            "Epoch 2 /30\n"
          ]
        },
        {
          "name": "stderr",
          "output_type": "stream",
          "text": []
        },
        {
          "name": "stdout",
          "output_type": "stream",
          "text": [
            "Training : \n",
            "Accuracy: 92.2445%\n",
            "Classification Loss 0.4718\n",
            "Discriminator Real 1.3088\n",
            "Discriminator Fake 1.4653\n",
            "Generator 1.3329\n"
          ]
        },
        {
          "name": "stderr",
          "output_type": "stream",
          "text": []
        },
        {
          "name": "stdout",
          "output_type": "stream",
          "text": [
            "Validation: \n",
            "Accuracy: 91.0714%\n",
            "Classification Loss 0.3285\n",
            "Discriminator Real 1.0621\n",
            "Discriminator Fake 1.4404\n",
            "Generator 1.3345\n",
            "Epoch 3 /30\n"
          ]
        },
        {
          "name": "stderr",
          "output_type": "stream",
          "text": []
        },
        {
          "name": "stdout",
          "output_type": "stream",
          "text": [
            "Training : \n",
            "Accuracy: 94.5255%\n",
            "Classification Loss 0.2490\n",
            "Discriminator Real 1.1985\n",
            "Discriminator Fake 1.5579\n",
            "Generator 1.2446\n"
          ]
        },
        {
          "name": "stderr",
          "output_type": "stream",
          "text": []
        },
        {
          "name": "stdout",
          "output_type": "stream",
          "text": [
            "Validation: \n",
            "Accuracy: 93.2143%\n",
            "Classification Loss 0.1946\n",
            "Discriminator Real 0.9532\n",
            "Discriminator Fake 1.5209\n",
            "Generator 1.2612\n",
            "Epoch 4 /30\n"
          ]
        },
        {
          "name": "stderr",
          "output_type": "stream",
          "text": []
        },
        {
          "name": "stdout",
          "output_type": "stream",
          "text": [
            "Training : \n",
            "Accuracy: 96.2591%\n",
            "Classification Loss 0.1694\n",
            "Discriminator Real 1.1106\n",
            "Discriminator Fake 1.6335\n",
            "Generator 1.1807\n"
          ]
        },
        {
          "name": "stderr",
          "output_type": "stream",
          "text": []
        },
        {
          "name": "stdout",
          "output_type": "stream",
          "text": [
            "Validation: \n",
            "Accuracy: 93.9286%\n",
            "Classification Loss 0.1639\n",
            "Discriminator Real 0.8775\n",
            "Discriminator Fake 1.5950\n",
            "Generator 1.1987\n",
            "Epoch 5 /30\n"
          ]
        },
        {
          "name": "stderr",
          "output_type": "stream",
          "text": []
        },
        {
          "name": "stdout",
          "output_type": "stream",
          "text": [
            "Training : \n",
            "Accuracy: 97.2628%\n",
            "Classification Loss 0.1210\n",
            "Discriminator Real 1.0399\n",
            "Discriminator Fake 1.6956\n",
            "Generator 1.1315\n"
          ]
        },
        {
          "name": "stderr",
          "output_type": "stream",
          "text": []
        },
        {
          "name": "stdout",
          "output_type": "stream",
          "text": [
            "Validation: \n",
            "Accuracy: 94.2857%\n",
            "Classification Loss 0.1498\n",
            "Discriminator Real 0.8070\n",
            "Discriminator Fake 1.6748\n",
            "Generator 1.1358\n",
            "Epoch 6 /30\n"
          ]
        },
        {
          "name": "stderr",
          "output_type": "stream",
          "text": []
        },
        {
          "name": "stdout",
          "output_type": "stream",
          "text": [
            "Training : \n",
            "Accuracy: 98.1752%\n",
            "Classification Loss 0.0915\n",
            "Discriminator Real 0.9822\n",
            "Discriminator Fake 1.7469\n",
            "Generator 1.0933\n"
          ]
        },
        {
          "name": "stderr",
          "output_type": "stream",
          "text": []
        },
        {
          "name": "stdout",
          "output_type": "stream",
          "text": [
            "Validation: \n",
            "Accuracy: 93.9286%\n",
            "Classification Loss 0.1407\n",
            "Discriminator Real 0.7458\n",
            "Discriminator Fake 1.7117\n",
            "Generator 1.1083\n",
            "Epoch 7 /30\n"
          ]
        },
        {
          "name": "stderr",
          "output_type": "stream",
          "text": []
        },
        {
          "name": "stdout",
          "output_type": "stream",
          "text": [
            "Training : \n",
            "Accuracy: 98.7226%\n",
            "Classification Loss 0.0676\n",
            "Discriminator Real 0.9340\n",
            "Discriminator Fake 1.7894\n",
            "Generator 1.0628\n"
          ]
        },
        {
          "name": "stderr",
          "output_type": "stream",
          "text": []
        },
        {
          "name": "stdout",
          "output_type": "stream",
          "text": [
            "Validation: \n",
            "Accuracy: 93.5714%\n",
            "Classification Loss 0.1261\n",
            "Discriminator Real 0.6987\n",
            "Discriminator Fake 1.7563\n",
            "Generator 1.0761\n",
            "Epoch 8 /30\n"
          ]
        },
        {
          "name": "stderr",
          "output_type": "stream",
          "text": []
        },
        {
          "name": "stdout",
          "output_type": "stream",
          "text": [
            "Training : \n",
            "Accuracy: 98.9964%\n",
            "Classification Loss 0.0453\n",
            "Discriminator Real 0.8939\n",
            "Discriminator Fake 1.8245\n",
            "Generator 1.0388\n"
          ]
        },
        {
          "name": "stderr",
          "output_type": "stream",
          "text": []
        },
        {
          "name": "stdout",
          "output_type": "stream",
          "text": [
            "Validation: \n",
            "Accuracy: 93.9286%\n",
            "Classification Loss 0.1270\n",
            "Discriminator Real 0.6707\n",
            "Discriminator Fake 1.8019\n",
            "Generator 1.0447\n",
            "Epoch 9 /30\n"
          ]
        },
        {
          "name": "stderr",
          "output_type": "stream",
          "text": []
        },
        {
          "name": "stdout",
          "output_type": "stream",
          "text": [
            "Training : \n",
            "Accuracy: 99.5438%\n",
            "Classification Loss 0.0313\n",
            "Discriminator Real 0.8593\n",
            "Discriminator Fake 1.8516\n",
            "Generator 1.0204\n"
          ]
        },
        {
          "name": "stderr",
          "output_type": "stream",
          "text": []
        },
        {
          "name": "stdout",
          "output_type": "stream",
          "text": [
            "Validation: \n",
            "Accuracy: 95.0000%\n",
            "Classification Loss 0.1066\n",
            "Discriminator Real 0.6493\n",
            "Discriminator Fake 1.8458\n",
            "Generator 1.0156\n",
            "Epoch 10 /30\n"
          ]
        },
        {
          "name": "stderr",
          "output_type": "stream",
          "text": []
        },
        {
          "name": "stdout",
          "output_type": "stream",
          "text": [
            "Training : \n",
            "Accuracy: 99.9088%\n",
            "Classification Loss 0.0219\n",
            "Discriminator Real 0.8302\n",
            "Discriminator Fake 1.8749\n",
            "Generator 1.0054\n"
          ]
        },
        {
          "name": "stderr",
          "output_type": "stream",
          "text": []
        },
        {
          "name": "stdout",
          "output_type": "stream",
          "text": [
            "Validation: \n",
            "Accuracy: 94.2857%\n",
            "Classification Loss 0.1116\n",
            "Discriminator Real 0.6235\n",
            "Discriminator Fake 1.8648\n",
            "Generator 1.0028\n",
            "Epoch 11 /30\n"
          ]
        },
        {
          "name": "stderr",
          "output_type": "stream",
          "text": []
        },
        {
          "name": "stdout",
          "output_type": "stream",
          "text": [
            "Training : \n",
            "Accuracy: 99.9088%\n",
            "Classification Loss 0.0156\n",
            "Discriminator Real 0.8048\n",
            "Discriminator Fake 1.8914\n",
            "Generator 0.9946\n"
          ]
        },
        {
          "name": "stderr",
          "output_type": "stream",
          "text": []
        },
        {
          "name": "stdout",
          "output_type": "stream",
          "text": [
            "Validation: \n",
            "Accuracy: 93.9286%\n",
            "Classification Loss 0.1416\n",
            "Discriminator Real 0.6066\n",
            "Discriminator Fake 1.9017\n",
            "Generator 0.9794\n",
            "Epoch 12 /30\n"
          ]
        },
        {
          "name": "stderr",
          "output_type": "stream",
          "text": []
        },
        {
          "name": "stdout",
          "output_type": "stream",
          "text": [
            "Training : \n",
            "Accuracy: 100.0000%\n",
            "Classification Loss 0.0112\n",
            "Discriminator Real 0.7820\n",
            "Discriminator Fake 1.9078\n",
            "Generator 0.9842\n"
          ]
        },
        {
          "name": "stderr",
          "output_type": "stream",
          "text": []
        },
        {
          "name": "stdout",
          "output_type": "stream",
          "text": [
            "Validation: \n",
            "Accuracy: 95.0000%\n",
            "Classification Loss 0.1292\n",
            "Discriminator Real 0.5937\n",
            "Discriminator Fake 1.9214\n",
            "Generator 0.9675\n",
            "Epoch 13 /30\n"
          ]
        },
        {
          "name": "stderr",
          "output_type": "stream",
          "text": []
        },
        {
          "name": "stdout",
          "output_type": "stream",
          "text": [
            "Training : \n",
            "Accuracy: 99.9088%\n",
            "Classification Loss 0.0101\n",
            "Discriminator Real 0.7622\n",
            "Discriminator Fake 1.9184\n",
            "Generator 0.9776\n"
          ]
        },
        {
          "name": "stderr",
          "output_type": "stream",
          "text": []
        },
        {
          "name": "stdout",
          "output_type": "stream",
          "text": [
            "Validation: \n",
            "Accuracy: 93.9286%\n",
            "Classification Loss 0.1130\n",
            "Discriminator Real 0.5878\n",
            "Discriminator Fake 1.9468\n",
            "Generator 0.9521\n",
            "Epoch 14 /30\n"
          ]
        },
        {
          "name": "stderr",
          "output_type": "stream",
          "text": []
        },
        {
          "name": "stdout",
          "output_type": "stream",
          "text": [
            "Training : \n",
            "Accuracy: 99.9088%\n",
            "Classification Loss 0.0081\n",
            "Discriminator Real 0.7444\n",
            "Discriminator Fake 1.9263\n",
            "Generator 0.9728\n"
          ]
        },
        {
          "name": "stderr",
          "output_type": "stream",
          "text": []
        },
        {
          "name": "stdout",
          "output_type": "stream",
          "text": [
            "Validation: \n",
            "Accuracy: 94.6429%\n",
            "Classification Loss 0.1402\n",
            "Discriminator Real 0.5816\n",
            "Discriminator Fake 1.9735\n",
            "Generator 0.9368\n",
            "Epoch 15 /30\n"
          ]
        },
        {
          "name": "stderr",
          "output_type": "stream",
          "text": []
        },
        {
          "name": "stdout",
          "output_type": "stream",
          "text": [
            "Training : \n",
            "Accuracy: 100.0000%\n",
            "Classification Loss 0.0050\n",
            "Discriminator Real 0.7288\n",
            "Discriminator Fake 1.9350\n",
            "Generator 0.9673\n"
          ]
        },
        {
          "name": "stderr",
          "output_type": "stream",
          "text": []
        },
        {
          "name": "stdout",
          "output_type": "stream",
          "text": [
            "Validation: \n",
            "Accuracy: 93.5714%\n",
            "Classification Loss 0.1367\n",
            "Discriminator Real 0.5656\n",
            "Discriminator Fake 1.9821\n",
            "Generator 0.9312\n",
            "Epoch 16 /30\n"
          ]
        },
        {
          "name": "stderr",
          "output_type": "stream",
          "text": []
        },
        {
          "name": "stdout",
          "output_type": "stream",
          "text": [
            "Training : \n",
            "Accuracy: 100.0000%\n",
            "Classification Loss 0.0043\n",
            "Discriminator Real 0.7140\n",
            "Discriminator Fake 1.9398\n",
            "Generator 0.9644\n"
          ]
        },
        {
          "name": "stderr",
          "output_type": "stream",
          "text": []
        },
        {
          "name": "stdout",
          "output_type": "stream",
          "text": [
            "Validation: \n",
            "Accuracy: 94.6429%\n",
            "Classification Loss 0.1220\n",
            "Discriminator Real 0.5565\n",
            "Discriminator Fake 1.9917\n",
            "Generator 0.9257\n",
            "Epoch 17 /30\n"
          ]
        },
        {
          "name": "stderr",
          "output_type": "stream",
          "text": []
        },
        {
          "name": "stdout",
          "output_type": "stream",
          "text": [
            "Training : \n",
            "Accuracy: 99.9088%\n",
            "Classification Loss 0.0050\n",
            "Discriminator Real 0.7005\n",
            "Discriminator Fake 1.9429\n",
            "Generator 0.9623\n"
          ]
        },
        {
          "name": "stderr",
          "output_type": "stream",
          "text": []
        },
        {
          "name": "stdout",
          "output_type": "stream",
          "text": [
            "Validation: \n",
            "Accuracy: 93.2143%\n",
            "Classification Loss 0.1588\n",
            "Discriminator Real 0.5488\n",
            "Discriminator Fake 2.0132\n",
            "Generator 0.9136\n",
            "Epoch 18 /30\n"
          ]
        },
        {
          "name": "stderr",
          "output_type": "stream",
          "text": []
        },
        {
          "name": "stdout",
          "output_type": "stream",
          "text": [
            "Training : \n",
            "Accuracy: 100.0000%\n",
            "Classification Loss 0.0034\n",
            "Discriminator Real 0.6886\n",
            "Discriminator Fake 1.9449\n",
            "Generator 0.9612\n"
          ]
        },
        {
          "name": "stderr",
          "output_type": "stream",
          "text": []
        },
        {
          "name": "stdout",
          "output_type": "stream",
          "text": [
            "Validation: \n",
            "Accuracy: 95.0000%\n",
            "Classification Loss 0.1090\n",
            "Discriminator Real 0.5581\n",
            "Discriminator Fake 2.0428\n",
            "Generator 0.8978\n",
            "Epoch 19 /30\n"
          ]
        },
        {
          "name": "stderr",
          "output_type": "stream",
          "text": []
        },
        {
          "name": "stdout",
          "output_type": "stream",
          "text": [
            "Training : \n",
            "Accuracy: 100.0000%\n",
            "Classification Loss 0.0027\n",
            "Discriminator Real 0.6771\n",
            "Discriminator Fake 1.9486\n",
            "Generator 0.9590\n"
          ]
        },
        {
          "name": "stderr",
          "output_type": "stream",
          "text": []
        },
        {
          "name": "stdout",
          "output_type": "stream",
          "text": [
            "Validation: \n",
            "Accuracy: 94.6429%\n",
            "Classification Loss 0.1393\n",
            "Discriminator Real 0.5514\n",
            "Discriminator Fake 2.0551\n",
            "Generator 0.8903\n",
            "Epoch 20 /30\n"
          ]
        },
        {
          "name": "stderr",
          "output_type": "stream",
          "text": []
        },
        {
          "name": "stdout",
          "output_type": "stream",
          "text": [
            "Training : \n",
            "Accuracy: 100.0000%\n",
            "Classification Loss 0.0029\n",
            "Discriminator Real 0.6673\n",
            "Discriminator Fake 1.9509\n",
            "Generator 0.9577\n"
          ]
        },
        {
          "name": "stderr",
          "output_type": "stream",
          "text": []
        },
        {
          "name": "stdout",
          "output_type": "stream",
          "text": [
            "Validation: \n",
            "Accuracy: 94.6429%\n",
            "Classification Loss 0.1412\n",
            "Discriminator Real 0.5473\n",
            "Discriminator Fake 2.0721\n",
            "Generator 0.8816\n",
            "Epoch 21 /30\n"
          ]
        },
        {
          "name": "stderr",
          "output_type": "stream",
          "text": []
        },
        {
          "name": "stdout",
          "output_type": "stream",
          "text": [
            "Training : \n",
            "Accuracy: 100.0000%\n",
            "Classification Loss 0.0017\n",
            "Discriminator Real 0.6568\n",
            "Discriminator Fake 1.9501\n",
            "Generator 0.9579\n"
          ]
        },
        {
          "name": "stderr",
          "output_type": "stream",
          "text": []
        },
        {
          "name": "stdout",
          "output_type": "stream",
          "text": [
            "Validation: \n",
            "Accuracy: 93.9286%\n",
            "Classification Loss 0.1589\n",
            "Discriminator Real 0.5354\n",
            "Discriminator Fake 2.0756\n",
            "Generator 0.8800\n",
            "Epoch 22 /30\n"
          ]
        },
        {
          "name": "stderr",
          "output_type": "stream",
          "text": []
        },
        {
          "name": "stdout",
          "output_type": "stream",
          "text": [
            "Training : \n",
            "Accuracy: 100.0000%\n",
            "Classification Loss 0.0014\n",
            "Discriminator Real 0.6481\n",
            "Discriminator Fake 1.9480\n",
            "Generator 0.9592\n"
          ]
        },
        {
          "name": "stderr",
          "output_type": "stream",
          "text": []
        },
        {
          "name": "stdout",
          "output_type": "stream",
          "text": [
            "Validation: \n",
            "Accuracy: 95.0000%\n",
            "Classification Loss 0.1411\n",
            "Discriminator Real 0.5461\n",
            "Discriminator Fake 2.0705\n",
            "Generator 0.8827\n",
            "Epoch 23 /30\n"
          ]
        },
        {
          "name": "stderr",
          "output_type": "stream",
          "text": []
        },
        {
          "name": "stdout",
          "output_type": "stream",
          "text": [
            "Training : \n",
            "Accuracy: 100.0000%\n",
            "Classification Loss 0.0016\n",
            "Discriminator Real 0.6392\n",
            "Discriminator Fake 1.9487\n",
            "Generator 0.9587\n"
          ]
        },
        {
          "name": "stderr",
          "output_type": "stream",
          "text": []
        },
        {
          "name": "stdout",
          "output_type": "stream",
          "text": [
            "Validation: \n",
            "Accuracy: 94.2857%\n",
            "Classification Loss 0.1420\n",
            "Discriminator Real 0.5404\n",
            "Discriminator Fake 2.0793\n",
            "Generator 0.8789\n",
            "Epoch 24 /30\n"
          ]
        },
        {
          "name": "stderr",
          "output_type": "stream",
          "text": []
        },
        {
          "name": "stdout",
          "output_type": "stream",
          "text": [
            "Training : \n",
            "Accuracy: 100.0000%\n",
            "Classification Loss 0.0012\n",
            "Discriminator Real 0.6315\n",
            "Discriminator Fake 1.9463\n",
            "Generator 0.9604\n"
          ]
        },
        {
          "name": "stderr",
          "output_type": "stream",
          "text": []
        },
        {
          "name": "stdout",
          "output_type": "stream",
          "text": [
            "Validation: \n",
            "Accuracy: 94.6429%\n",
            "Classification Loss 0.1462\n",
            "Discriminator Real 0.5432\n",
            "Discriminator Fake 2.0945\n",
            "Generator 0.8703\n",
            "Epoch 25 /30\n"
          ]
        },
        {
          "name": "stderr",
          "output_type": "stream",
          "text": []
        },
        {
          "name": "stdout",
          "output_type": "stream",
          "text": [
            "Training : \n",
            "Accuracy: 100.0000%\n",
            "Classification Loss 0.0018\n",
            "Discriminator Real 0.6236\n",
            "Discriminator Fake 1.9461\n",
            "Generator 0.9606\n"
          ]
        },
        {
          "name": "stderr",
          "output_type": "stream",
          "text": []
        },
        {
          "name": "stdout",
          "output_type": "stream",
          "text": [
            "Validation: \n",
            "Accuracy: 94.2857%\n",
            "Classification Loss 0.1620\n",
            "Discriminator Real 0.5395\n",
            "Discriminator Fake 2.1131\n",
            "Generator 0.8617\n",
            "Epoch 26 /30\n"
          ]
        },
        {
          "name": "stderr",
          "output_type": "stream",
          "text": []
        },
        {
          "name": "stdout",
          "output_type": "stream",
          "text": [
            "Training : \n",
            "Accuracy: 100.0000%\n",
            "Classification Loss 0.0010\n",
            "Discriminator Real 0.6159\n",
            "Discriminator Fake 1.9461\n",
            "Generator 0.9606\n"
          ]
        },
        {
          "name": "stderr",
          "output_type": "stream",
          "text": []
        },
        {
          "name": "stdout",
          "output_type": "stream",
          "text": [
            "Validation: \n",
            "Accuracy: 93.9286%\n",
            "Classification Loss 0.1540\n",
            "Discriminator Real 0.5413\n",
            "Discriminator Fake 2.1104\n",
            "Generator 0.8620\n",
            "Epoch 27 /30\n"
          ]
        },
        {
          "name": "stderr",
          "output_type": "stream",
          "text": []
        },
        {
          "name": "stdout",
          "output_type": "stream",
          "text": [
            "Training : \n",
            "Accuracy: 100.0000%\n",
            "Classification Loss 0.0015\n",
            "Discriminator Real 0.6089\n",
            "Discriminator Fake 1.9416\n",
            "Generator 0.9631\n"
          ]
        },
        {
          "name": "stderr",
          "output_type": "stream",
          "text": []
        },
        {
          "name": "stdout",
          "output_type": "stream",
          "text": [
            "Validation: \n",
            "Accuracy: 93.5714%\n",
            "Classification Loss 0.1962\n",
            "Discriminator Real 0.5323\n",
            "Discriminator Fake 2.1165\n",
            "Generator 0.8585\n",
            "Epoch 28 /30\n"
          ]
        },
        {
          "name": "stderr",
          "output_type": "stream",
          "text": []
        },
        {
          "name": "stdout",
          "output_type": "stream",
          "text": [
            "Training : \n",
            "Accuracy: 100.0000%\n",
            "Classification Loss 0.0007\n",
            "Discriminator Real 0.6024\n",
            "Discriminator Fake 1.9420\n",
            "Generator 0.9629\n"
          ]
        },
        {
          "name": "stderr",
          "output_type": "stream",
          "text": []
        },
        {
          "name": "stdout",
          "output_type": "stream",
          "text": [
            "Validation: \n",
            "Accuracy: 94.6429%\n",
            "Classification Loss 0.1474\n",
            "Discriminator Real 0.5331\n",
            "Discriminator Fake 2.1202\n",
            "Generator 0.8574\n",
            "Epoch 29 /30\n"
          ]
        },
        {
          "name": "stderr",
          "output_type": "stream",
          "text": []
        },
        {
          "name": "stdout",
          "output_type": "stream",
          "text": [
            "Training : \n",
            "Accuracy: 100.0000%\n",
            "Classification Loss 0.0006\n",
            "Discriminator Real 0.5960\n",
            "Discriminator Fake 1.9367\n",
            "Generator 0.9659\n"
          ]
        },
        {
          "name": "stderr",
          "output_type": "stream",
          "text": []
        },
        {
          "name": "stdout",
          "output_type": "stream",
          "text": [
            "Validation: \n",
            "Accuracy: 95.0000%\n",
            "Classification Loss 0.1439\n",
            "Discriminator Real 0.5294\n",
            "Discriminator Fake 2.1217\n",
            "Generator 0.8569\n",
            "Epoch 30 /30\n"
          ]
        },
        {
          "name": "stderr",
          "output_type": "stream",
          "text": []
        },
        {
          "name": "stdout",
          "output_type": "stream",
          "text": [
            "Training : \n",
            "Accuracy: 100.0000%\n",
            "Classification Loss 0.0006\n",
            "Discriminator Real 0.5896\n",
            "Discriminator Fake 1.9364\n",
            "Generator 0.9664\n"
          ]
        },
        {
          "name": "stderr",
          "output_type": "stream",
          "text": []
        },
        {
          "name": "stdout",
          "output_type": "stream",
          "text": [
            "Validation: \n",
            "Accuracy: 93.9286%\n",
            "Classification Loss 0.2060\n",
            "Discriminator Real 0.5293\n",
            "Discriminator Fake 2.1319\n",
            "Generator 0.8513\n"
          ]
        }
      ],
      "source": [
        "for i in range(30):\n",
        "    print('Epoch',i+1,'/30')\n",
        "    train_GAN(final_model, train_loader_camera, train_loader_sonar, optimizer_gan)\n",
        "    valid_GAN(final_model, val_loader_camera, val_loader_sonar)"
      ]
    }
  ],
  "metadata": {
    "accelerator": "GPU",
    "colab": {
      "provenance": []
    },
    "gpuClass": "standard",
    "kernelspec": {
      "display_name": "Python 3.9.12 ('Meghana')",
      "language": "python",
      "name": "python3"
    },
    "language_info": {
      "name": "python",
      "version": "3.9.12 (main, Jun  1 2022, 06:36:29) \n[Clang 12.0.0 ]"
    },
    "vscode": {
      "interpreter": {
        "hash": "1fef2665558d75b44be1035c3507ca02c3cc47926e74bd9297af308cf958a762"
      }
    }
  },
  "nbformat": 4,
  "nbformat_minor": 0
}
